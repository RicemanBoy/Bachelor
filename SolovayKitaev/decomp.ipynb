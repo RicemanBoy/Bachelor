{
 "cells": [
  {
   "cell_type": "code",
   "execution_count": 1,
   "metadata": {},
   "outputs": [
    {
     "name": "stdout",
     "output_type": "stream",
     "text": [
      "--- True\n",
      "--- True\n",
      "--- True\n",
      "--- True\n",
      "--- True\n",
      "--- True\n",
      "--- True\n",
      "--- True\n",
      "--- True\n",
      "--- True\n",
      "--- True\n",
      "--- True\n",
      "--- True\n",
      "[[0.98078528-0.19509032j 0.        +0.j        ]\n",
      " [0.        +0.j         0.98078528+0.19509032j]]\n",
      "[[ 0.97884349-0.20293426j  0.02255657-0.01320266j]\n",
      " [-0.02255657-0.01320266j  0.97884349+0.20293426j]]\n",
      "0.02735703045636742\n"
     ]
    }
   ],
   "source": [
    "import qutip as qt\n",
    "import gates as gate\n",
    "import numpy as np\n",
    "from solovay_kitaev import solovay_kitaev\n",
    "from utils import load_tree\n",
    "\n",
    "U = gate.Rz(np.pi/8)\n",
    "\n",
    "tree = load_tree('trees/HT_10.pkl')\n",
    "\n",
    "U_approx = solovay_kitaev(U, tree, 3)\n",
    "\n",
    "print(U.full())\n",
    "print(U_approx.full())\n",
    "print(qt.tracedist(U, U_approx))"
   ]
  },
  {
   "cell_type": "code",
   "execution_count": 6,
   "metadata": {},
   "outputs": [
    {
     "name": "stdout",
     "output_type": "stream",
     "text": [
      "dict_keys(['tree', 'names', 'basis'])\n",
      "Quantum object: dims=[[2], [2]], shape=(2, 2), type='oper', dtype=CSR, isherm=False\n",
      "Qobj data =\n",
      "[[0.92387953-0.38268343j 0.        +0.j        ]\n",
      " [0.        +0.j         0.92387953+0.38268343j]]\n"
     ]
    }
   ],
   "source": [
    "tree = load_tree('trees/HT_8.pkl')\n",
    "\n",
    "print(tree.keys())\n",
    "\n",
    "#print(tree[\"basis\"])\n",
    "\n",
    "basis = tree[\"basis\"]\n",
    "\n",
    "print(basis[1])\n",
    "\n",
    "# U_approx = solovay_kitaev(U, tree, 3)\n",
    "\n",
    "# print(U.full())\n",
    "# print(U_approx.full())\n",
    "# print(qt.tracedist(U, U_approx))"
   ]
  }
 ],
 "metadata": {
  "kernelspec": {
   "display_name": "Python 3",
   "language": "python",
   "name": "python3"
  },
  "language_info": {
   "codemirror_mode": {
    "name": "ipython",
    "version": 3
   },
   "file_extension": ".py",
   "mimetype": "text/x-python",
   "name": "python",
   "nbconvert_exporter": "python",
   "pygments_lexer": "ipython3",
   "version": "3.10.12"
  }
 },
 "nbformat": 4,
 "nbformat_minor": 2
}
