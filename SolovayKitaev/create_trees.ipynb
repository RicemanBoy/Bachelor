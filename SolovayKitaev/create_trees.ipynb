{
 "cells": [
  {
   "cell_type": "code",
   "execution_count": null,
   "metadata": {},
   "outputs": [
    {
     "name": "stdout",
     "output_type": "stream",
     "text": [
      "Creating tree: 1/4\n",
      "Creating tree: 2/4\n",
      "Creating tree: 3/4\n",
      "Creating tree: 4/4\n",
      "Creating tree\n",
      "Elapsed time: 0.0036284923553466797\n",
      "Number of gates: 44\n"
     ]
    }
   ],
   "source": [
    "import time\n",
    "import gates as gate\n",
    "from utils import create_tree, save_tree\n",
    "\n",
    "basis = [gate.su2(gate.H), gate.su2(gate.T), gate.su2(gate.adjT)]  #0,1,2\n",
    "depth = 4\n",
    "\n",
    "t = time.time()\n",
    "tree = create_tree(basis, max_depth=depth)\n",
    "print('Elapsed time:', time.time() - t)\n",
    "print('Number of gates:', len(tree['names']))\n",
    "\n",
    "save_tree(tree, 'trees/HT_{}.pkl'.format(depth))"
   ]
  }
 ],
 "metadata": {
  "kernelspec": {
   "display_name": "Python 3",
   "language": "python",
   "name": "python3"
  },
  "language_info": {
   "codemirror_mode": {
    "name": "ipython",
    "version": 3
   },
   "file_extension": ".py",
   "mimetype": "text/x-python",
   "name": "python",
   "nbconvert_exporter": "python",
   "pygments_lexer": "ipython3",
   "version": "3.10.12"
  }
 },
 "nbformat": 4,
 "nbformat_minor": 2
}
