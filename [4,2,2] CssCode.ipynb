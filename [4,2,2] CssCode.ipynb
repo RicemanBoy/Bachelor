{
 "cells": [
  {
   "cell_type": "code",
   "execution_count": 1,
   "metadata": {},
   "outputs": [],
   "source": [
    "from qiskit import ClassicalRegister, QuantumCircuit, QuantumRegister\n",
    "from qiskit.visualization import plot_histogram\n",
    "import numpy as np\n",
    "import matplotlib.pyplot as plt\n",
    "import bitstring\n",
    "from qiskit_aer import AerSimulator\n",
    "\n",
    "from qiskit_aer.noise import (NoiseModel, QuantumError, ReadoutError,\n",
    "    pauli_error, depolarizing_error, thermal_relaxation_error)\n",
    "\n",
    "from qiskit.circuit.library import UnitaryGate"
   ]
  },
  {
   "cell_type": "code",
   "execution_count": 27,
   "metadata": {},
   "outputs": [],
   "source": [
    "matrix_h = ([[2**(-0.5),2**(-0.5)],[2**(-0.5),-2**(-0.5)]])\n",
    "h_ideal = UnitaryGate(matrix_h)\n",
    "\n",
    "matrix_cx = ([[1,0,0,0],[0,1,0,0],[0,0,0,1],[0,0,1,0]])\n",
    "cx_ideal = UnitaryGate(matrix_cx)       #Erst Target, dann Control Qubit!!\n",
    "\n",
    "matrix_x = ([[0,1],[1,0]])\n",
    "x_ideal = UnitaryGate(matrix_x)\n",
    "\n",
    "matrix_z = ([[1,0],[0,-1]])\n",
    "z_ideal = UnitaryGate(matrix_z)"
   ]
  },
  {
   "cell_type": "code",
   "execution_count": null,
   "metadata": {},
   "outputs": [],
   "source": [
    "\n",
    "def code() -> QuantumCircuit:    #Returns the |0+> State\n",
    "    qr = QuantumRegister(7, \"q\")\n",
    "    cbit = ClassicalRegister(10,\"c\")\n",
    "    qc = QuantumCircuit(qr,cbit)\n",
    "    qc.h(0)\n",
    "    qc.cx(0,1)\n",
    "    qc.h(2)\n",
    "    qc.cx(2,3)\n",
    "    return qc\n",
    "\n",
    "def X_L(qc: QuantumCircuit, q: list,n: int)-> QuantumCircuit:\n",
    "    if n == 1:\n",
    "        qc.x(q[0])\n",
    "        qc.x(q[2])\n",
    "    elif n == 2:\n",
    "        qc.x(q[0])\n",
    "        qc.x(q[1])\n",
    "\n",
    "def Z_L(qc: QuantumCircuit, q: list, n: int)-> QuantumCircuit:\n",
    "    if n == 1:\n",
    "        qc.z(q[0])\n",
    "        qc.z(q[1])\n",
    "    elif n == 2:\n",
    "        qc.z(q[0])\n",
    "        qc.z(q[2])\n",
    "\n",
    "def CNOT(control: int, q: list) -> QuantumCircuit:\n",
    "    if control == 1:\n",
    "        q[0], q[1] = q[1], q[0]\n",
    "    elif control == 2:\n",
    "        q[0], q[2] = q[2], q[0]\n",
    "\n",
    "def CZ_L(qc: QuantumCircuit, q: list)-> QuantumCircuit:\n",
    "    for i in range(4):\n",
    "        qc.s(q[i])\n",
    "    qc.z(q[1])\n",
    "    qc.z(q[2])\n",
    "\n",
    "def S_L(qc: QuantumCircuit, q: list)-> QuantumCircuit:\n",
    "    qc.h(q[5])\n",
    "    qc.s(q[5])\n",
    "    "
   ]
  },
  {
   "cell_type": "code",
   "execution_count": 26,
   "metadata": {},
   "outputs": [
    {
     "name": "stdout",
     "output_type": "stream",
     "text": [
      "[0, 1, 2, 3, 4, 5, 6]\n"
     ]
    }
   ],
   "source": [
    "q = [0,1,2,3,4,5,6]         # = q0, q1, q2, q3, a, s_m, t_m    in this order\n",
    "\n",
    "CNOT(0, q)\n",
    "\n",
    "print(q)"
   ]
  }
 ],
 "metadata": {
  "kernelspec": {
   "display_name": "Python 3",
   "language": "python",
   "name": "python3"
  },
  "language_info": {
   "codemirror_mode": {
    "name": "ipython",
    "version": 3
   },
   "file_extension": ".py",
   "mimetype": "text/x-python",
   "name": "python",
   "nbconvert_exporter": "python",
   "pygments_lexer": "ipython3",
   "version": "3.10.12"
  }
 },
 "nbformat": 4,
 "nbformat_minor": 2
}
