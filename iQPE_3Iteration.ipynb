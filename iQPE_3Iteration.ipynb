{
 "cells": [
  {
   "cell_type": "code",
   "execution_count": 1,
   "metadata": {},
   "outputs": [],
   "source": [
    "from qiskit import ClassicalRegister, QuantumCircuit, QuantumRegister\n",
    "from qiskit.visualization import plot_histogram\n",
    "import numpy as np\n",
    "import matplotlib.pyplot as plt\n",
    "import bitstring\n",
    "from qiskit_aer import AerSimulator\n",
    "from qiskit.transpiler.passes.synthesis import SolovayKitaev\n",
    "from qiskit.synthesis import generate_basic_approximations\n",
    "from qiskit.quantum_info import Operator\n",
    "\n",
    "from qiskit_aer.noise import (NoiseModel, QuantumError, ReadoutError,\n",
    "    pauli_error, depolarizing_error, thermal_relaxation_error)\n",
    "\n",
    "from qiskit.circuit.library import UnitaryGate"
   ]
  },
  {
   "cell_type": "code",
   "execution_count": 2,
   "metadata": {},
   "outputs": [
    {
     "name": "stdout",
     "output_type": "stream",
     "text": [
      "Original circuit:\n",
      "   ┌─────────┐\n",
      "q: ┤ Rz(π/8) ├\n",
      "   └─────────┘\n",
      "Discretized circuit:\n",
      "   ┌───┐┌───┐┌─────┐┌───┐┌─────┐┌───┐┌───┐┌───┐┌───┐┌───┐┌───┐┌───┐┌─────┐┌───┐»\n",
      "q: ┤ T ├┤ H ├┤ Tdg ├┤ H ├┤ Tdg ├┤ H ├┤ T ├┤ H ├┤ T ├┤ H ├┤ T ├┤ H ├┤ Tdg ├┤ H ├»\n",
      "   └───┘└───┘└─────┘└───┘└─────┘└───┘└───┘└───┘└───┘└───┘└───┘└───┘└─────┘└───┘»\n",
      "«   ┌─────┐┌───┐\n",
      "«q: ┤ Tdg ├┤ H ├\n",
      "«   └─────┘└───┘\n",
      "Error: 0.07944281142466891\n"
     ]
    }
   ],
   "source": [
    "qc = QuantumCircuit(1)\n",
    "\n",
    "qc.rz(np.pi/8, 0)\n",
    "\n",
    "print(\"Original circuit:\")\n",
    "print(qc.draw())\n",
    " \n",
    "basis = [\"t\", \"tdg\", \"z\", \"h\"]\n",
    "approx = generate_basic_approximations(basis, depth=3)\n",
    "skd = SolovayKitaev(recursion_degree=2, basic_approximations=approx)\n",
    " \n",
    "discretized = skd(qc)\n",
    " \n",
    "print(\"Discretized circuit:\")\n",
    "print(discretized.draw())\n",
    " \n",
    "print(\"Error:\", np.linalg.norm(Operator(qc).data - Operator(discretized).data))\n",
    "\n",
    "#discretized.draw(\"mpl\")"
   ]
  },
  {
   "cell_type": "code",
   "execution_count": 3,
   "metadata": {},
   "outputs": [
    {
     "name": "stdout",
     "output_type": "stream",
     "text": [
      "Original circuit:\n",
      "   ┌──────────┐\n",
      "q: ┤ Rz(-π/8) ├\n",
      "   └──────────┘\n",
      "Discretized circuit:\n",
      "   ┌───┐┌───┐┌───┐┌───┐┌───┐┌─────┐┌───┐┌─────┐┌───┐┌─────┐┌───┐┌───┐┌───┐┌───┐»\n",
      "q: ┤ H ├┤ T ├┤ H ├┤ T ├┤ H ├┤ Tdg ├┤ H ├┤ Tdg ├┤ H ├┤ Tdg ├┤ H ├┤ T ├┤ H ├┤ T ├»\n",
      "   └───┘└───┘└───┘└───┘└───┘└─────┘└───┘└─────┘└───┘└─────┘└───┘└───┘└───┘└───┘»\n",
      "«   ┌───┐┌─────┐\n",
      "«q: ┤ H ├┤ Tdg ├\n",
      "«   └───┘└─────┘\n",
      "Error: 0.07944281142466901\n"
     ]
    }
   ],
   "source": [
    "qc = QuantumCircuit(1)\n",
    "\n",
    "qc.rz(-np.pi/8, 0)\n",
    "\n",
    "print(\"Original circuit:\")\n",
    "print(qc.draw())\n",
    " \n",
    "basis = [\"t\", \"tdg\", \"z\", \"h\"]\n",
    "approx = generate_basic_approximations(basis, depth=3)\n",
    "skd = SolovayKitaev(recursion_degree=2, basic_approximations=approx)\n",
    " \n",
    "discretized1 = skd(qc)\n",
    " \n",
    "print(\"Discretized circuit:\")\n",
    "print(discretized1.draw())\n",
    " \n",
    "print(\"Error:\", np.linalg.norm(Operator(qc).data - Operator(discretized1).data))\n",
    "\n",
    "#discretized.draw(\"mpl\")"
   ]
  },
  {
   "cell_type": "code",
   "execution_count": 4,
   "metadata": {},
   "outputs": [],
   "source": [
    "def root_T(qc: QuantumCircuit, pos):\n",
    "    circ = QuantumCircuit(1)\n",
    "    circ.rz(np.pi/8, 0)\n",
    "    basis = [\"t\", \"tdg\", \"z\", \"h\"]\n",
    "    approx = generate_basic_approximations(basis, depth=3)\n",
    "    skd = SolovayKitaev(recursion_degree=2, basic_approximations=approx)\n",
    "    discretized = skd(circ)\n",
    "    hmm = discretized.data\n",
    "    for instruction in hmm:\n",
    "        if instruction.name == \"t\":\n",
    "            qc.t(pos)\n",
    "        if instruction.name == \"tdg\":\n",
    "            qc.tdg(pos)\n",
    "        if instruction.name == \"h\":\n",
    "            qc.h(pos)\n",
    "\n",
    "def adj_root_T(qc: QuantumCircuit, pos):\n",
    "    circ = QuantumCircuit(1)\n",
    "    circ.rz(-np.pi/8, 0)\n",
    "    basis = [\"t\", \"tdg\", \"z\", \"h\"]\n",
    "    approx = generate_basic_approximations(basis, depth=3)\n",
    "    skd = SolovayKitaev(recursion_degree=2, basic_approximations=approx)\n",
    "    discretized = skd(circ)\n",
    "    hmm = discretized.data\n",
    "    for instruction in hmm:\n",
    "        if instruction.name == \"t\":\n",
    "            qc.t(pos)\n",
    "        if instruction.name == \"tdg\":\n",
    "            qc.tdg(pos)\n",
    "        if instruction.name == \"h\":\n",
    "            qc.h(pos)\n",
    "\n",
    "def CT(qc: QuantumCircuit):\n",
    "    root_T(qc, 0)\n",
    "    root_T(qc, 1)\n",
    "    qc.cx(0,1)\n",
    "    adj_root_T(qc,1)\n",
    "    qc.cx(0,1)"
   ]
  },
  {
   "cell_type": "code",
   "execution_count": 5,
   "metadata": {},
   "outputs": [
    {
     "name": "stdout",
     "output_type": "stream",
     "text": [
      "{'0': 215, '1': 9785}\n"
     ]
    }
   ],
   "source": [
    "qr = QuantumRegister(2,\"q\")\n",
    "cbits = ClassicalRegister(1, \"c\")\n",
    "qc = QuantumCircuit(qr, cbits)\n",
    "\n",
    "qc.x(1)\n",
    "qc.h(0)\n",
    "\n",
    "CT(qc)\n",
    "CT(qc)\n",
    "CT(qc)\n",
    "CT(qc)\n",
    "\n",
    "qc.h(0)\n",
    "qc.measure(0,0)\n",
    "\n",
    "sim = AerSimulator()\n",
    "    \n",
    "job = sim.run(qc, shots=10000)\n",
    "\n",
    "result = job.result()\n",
    "counts = result.get_counts()\n",
    "\n",
    "print(counts)\n",
    "\n",
    "#qc.draw(\"mpl\")"
   ]
  },
  {
   "cell_type": "code",
   "execution_count": 6,
   "metadata": {},
   "outputs": [
    {
     "name": "stdout",
     "output_type": "stream",
     "text": [
      "{'1': 1465709, '0': 8534291}\n"
     ]
    },
    {
     "data": {
      "image/png": "[encoded data removed]",
      "text/plain": [
       "<Figure size 538.128x284.278 with 1 Axes>"
      ]
     },
     "execution_count": 6,
     "metadata": {},
     "output_type": "execute_result"
    }
   ],
   "source": [
    "qr = QuantumRegister(2,\"q\")\n",
    "cbits = ClassicalRegister(1, \"c\")\n",
    "qc = QuantumCircuit(qr, cbits)\n",
    "\n",
    "qc.x(1)\n",
    "qc.h(0)\n",
    "\n",
    "qc.cp(np.pi/4, 0, 1)\n",
    "\n",
    "# qc.p(np.pi/8, 0)\n",
    "# qc.p(np.pi/8, 1)\n",
    "# qc.cx(0,1)\n",
    "# qc.p(-np.pi/8,1)\n",
    "# qc.cx(0,1)\n",
    "\n",
    "\n",
    "# solovay(qc, discretized=discretized, pos=0)\n",
    "# solovay(qc, discretized=discretized, pos=1)\n",
    "# qc.cx(0,1)\n",
    "# solovay(qc, discretized=discretized1, pos=1)\n",
    "# qc.cx(0,1)\n",
    "\n",
    "\n",
    "\n",
    "qc.h(0)\n",
    "qc.measure(0,0)\n",
    "\n",
    "sim = AerSimulator()\n",
    "    \n",
    "job = sim.run(qc, shots=10000000)\n",
    "\n",
    "result = job.result()\n",
    "counts = result.get_counts()\n",
    "\n",
    "print(counts)\n",
    "\n",
    "qc.draw(\"mpl\")"
   ]
  },
  {
   "cell_type": "code",
   "execution_count": 7,
   "metadata": {},
   "outputs": [
    {
     "name": "stdout",
     "output_type": "stream",
     "text": [
      "{'1': 10000}\n"
     ]
    },
    {
     "data": {
      "image/png": "[encoded data removed]",
      "text/plain": [
       "<Figure size 454.517x284.278 with 1 Axes>"
      ]
     },
     "execution_count": 7,
     "metadata": {},
     "output_type": "execute_result"
    }
   ],
   "source": [
    "#iQPE first iteration\n",
    "\n",
    "qr = QuantumRegister(2,\"q\")\n",
    "cbits = ClassicalRegister(1, \"c\")\n",
    "qc = QuantumCircuit(qr, cbits)\n",
    "\n",
    "qc.x(1)\n",
    "qc.h(0)\n",
    "\n",
    "qc.cz(0,1)\n",
    "\n",
    "qc.h(0)\n",
    "qc.measure(0,0)\n",
    "\n",
    "sim = AerSimulator()\n",
    "    \n",
    "job = sim.run(qc, shots=10000)\n",
    "\n",
    "result = job.result()\n",
    "counts = result.get_counts()\n",
    "\n",
    "print(counts)\n",
    "\n",
    "qc.draw(\"mpl\")"
   ]
  },
  {
   "cell_type": "code",
   "execution_count": 8,
   "metadata": {},
   "outputs": [
    {
     "name": "stdout",
     "output_type": "stream",
     "text": [
      "{'0': 10000}\n"
     ]
    },
    {
     "data": {
      "image/png": "[encoded data removed]",
      "text/plain": [
       "<Figure size 621.739x284.278 with 1 Axes>"
      ]
     },
     "execution_count": 8,
     "metadata": {},
     "output_type": "execute_result"
    }
   ],
   "source": [
    "#iQPE second iteration\n",
    "\n",
    "qr = QuantumRegister(2,\"q\")\n",
    "cbits = ClassicalRegister(1, \"c\")\n",
    "qc = QuantumCircuit(qr, cbits)\n",
    "\n",
    "qc.x(1)\n",
    "qc.h(0)\n",
    "\n",
    "qc.cp(np.pi/2,0,1)\n",
    "\n",
    "qc.sdg(0)\n",
    "\n",
    "qc.h(0)\n",
    "qc.measure(0,0)\n",
    "\n",
    "sim = AerSimulator()\n",
    "    \n",
    "job = sim.run(qc, shots=10000)\n",
    "\n",
    "result = job.result()\n",
    "counts = result.get_counts()\n",
    "\n",
    "print(counts)\n",
    "\n",
    "qc.draw(\"mpl\")"
   ]
  },
  {
   "cell_type": "code",
   "execution_count": 9,
   "metadata": {},
   "outputs": [
    {
     "name": "stdout",
     "output_type": "stream",
     "text": [
      "{'0': 10000}\n"
     ]
    },
    {
     "data": {
      "image/png": "[encoded data removed]",
      "text/plain": [
       "<Figure size 621.739x284.278 with 1 Axes>"
      ]
     },
     "execution_count": 9,
     "metadata": {},
     "output_type": "execute_result"
    }
   ],
   "source": [
    "#iQPE third iteration\n",
    "\n",
    "qr = QuantumRegister(2,\"q\")\n",
    "cbits = ClassicalRegister(1, \"c\")\n",
    "qc = QuantumCircuit(qr, cbits)\n",
    "\n",
    "qc.x(1)\n",
    "qc.h(0)\n",
    "\n",
    "\n",
    "qc.cp(np.pi/4,0,1)\n",
    "\n",
    "qc.tdg(0)\n",
    "\n",
    "qc.h(0)\n",
    "qc.measure(0,0)\n",
    "\n",
    "sim = AerSimulator()\n",
    "    \n",
    "job = sim.run(qc, shots=10000)\n",
    "\n",
    "result = job.result()\n",
    "counts = result.get_counts()\n",
    "\n",
    "print(counts)\n",
    "\n",
    "qc.draw(\"mpl\")"
   ]
  },
  {
   "cell_type": "code",
   "execution_count": 10,
   "metadata": {},
   "outputs": [
    {
     "name": "stdout",
     "output_type": "stream",
     "text": [
      "{'00': 1000}\n"
     ]
    },
    {
     "data": {
      "image/png": "[encoded data removed]",
      "text/plain": [
       "<Figure size 287.294x284.278 with 1 Axes>"
      ]
     },
     "execution_count": 10,
     "metadata": {},
     "output_type": "execute_result"
    }
   ],
   "source": [
    "p = 0.1\n",
    "p_error = pauli_error([[\"Z\",p],[\"I\",1-p]])\n",
    "p_error_2 = pauli_error([[\"IX\",p],[\"II\",1-p]])\n",
    "\n",
    "noise_model = NoiseModel()\n",
    "noise_model.add_all_qubit_quantum_error(p_error_2, [\"cx\"])  # Apply to single-qubit gates\n",
    "\n",
    "#iQPE third iteration\n",
    "\n",
    "qr = QuantumRegister(2,\"q\")\n",
    "cbits = ClassicalRegister(2, \"c\")\n",
    "qc = QuantumCircuit(qr, cbits)\n",
    "\n",
    "matrix_h = ([[2**(-0.5),2**(-0.5)],[2**(-0.5),-2**(-0.5)]])\n",
    "h_ideal = UnitaryGate(matrix_h)\n",
    "matrix_cx = ([[1,0,0,0],[0,1,0,0],[0,0,0,1],[0,0,1,0]])\n",
    "cx_ideal = UnitaryGate(matrix_cx) \n",
    "\n",
    "qc.cx(0,1)\n",
    "#qc.append(cx_ideal,[1,0])\n",
    "qc.measure(1,0)\n",
    "# qc.measure(1,1)\n",
    "\n",
    "sim = AerSimulator()\n",
    "    \n",
    "job = sim.run(qc, shots=1000, noise_model=noise_model)\n",
    "\n",
    "result = job.result()\n",
    "counts = result.get_counts()\n",
    "\n",
    "print(counts)\n",
    "\n",
    "qc.draw(\"mpl\")"
   ]
  },
  {
   "cell_type": "code",
   "execution_count": 59,
   "metadata": {},
   "outputs": [
    {
     "name": "stdout",
     "output_type": "stream",
     "text": [
      "00000 00000 00000 00001\n",
      "['00000', ' 00000', ' 00000', ' 00001']\n"
     ]
    },
    {
     "data": {
      "image/png": "[encoded data removed]",
      "text/plain": [
       "<Figure size 972.414x535.111 with 1 Axes>"
      ]
     },
     "execution_count": 59,
     "metadata": {},
     "output_type": "execute_result"
    }
   ],
   "source": [
    "qr = QuantumRegister(2,\"q\")\n",
    "cbits = ClassicalRegister(5, \"c\")\n",
    "qc = QuantumCircuit(qr, cbits)\n",
    "\n",
    "qc.ry(np.pi/4,0)\n",
    "#qc.x(1)\n",
    "\n",
    "qc.cy(0,1)\n",
    "\n",
    "qc.measure(0,0)\n",
    "\n",
    "with qc.if_test((0,1)):\n",
    "    qc.ry(np.pi/2,1)\n",
    "\n",
    "#qc.ry(-np.pi/4,1)\n",
    "\n",
    "#qc.add_bits(cbits2)\n",
    "for i in range(3):\n",
    "    test = ClassicalRegister(5)\n",
    "    qc.add_register(test)\n",
    "\n",
    "for i in range(5):\n",
    "    qc.measure(1,test[i])\n",
    "\n",
    "sim = AerSimulator()\n",
    "    \n",
    "job = sim.run(qc, shots=10000)\n",
    "\n",
    "result = job.result()\n",
    "counts = result.get_counts()\n",
    "yeah = list(counts.keys())\n",
    "\n",
    "print(yeah[0])\n",
    "\n",
    "yikes = [\"\"]\n",
    "k = 0\n",
    "\n",
    "for i in yeah[0]:\n",
    "    if i == \" \":\n",
    "        yikes.append(\"\")\n",
    "        k += 1\n",
    "    yikes[k] += i\n",
    "\n",
    "print(yikes)\n",
    "\n",
    "qc.draw(\"mpl\")"
   ]
  },
  {
   "cell_type": "code",
   "execution_count": null,
   "metadata": {},
   "outputs": [],
   "source": []
  }
 ],
 "metadata": {
  "kernelspec": {
   "display_name": "Python 3",
   "language": "python",
   "name": "python3"
  },
  "language_info": {
   "codemirror_mode": {
    "name": "ipython",
    "version": 3
   },
   "file_extension": ".py",
   "mimetype": "text/x-python",
   "name": "python",
   "nbconvert_exporter": "python",
   "pygments_lexer": "ipython3",
   "version": "3.10.12"
  }
 },
 "nbformat": 4,
 "nbformat_minor": 2
}
