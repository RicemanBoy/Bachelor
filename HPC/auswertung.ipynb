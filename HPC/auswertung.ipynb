{
 "cells": [
  {
   "cell_type": "code",
   "execution_count": 1,
   "id": "346562a3-a823-4e77-82d5-e8c225216c07",
   "metadata": {},
   "outputs": [],
   "source": [
    "import numpy as np\n",
    "#from functions import *\n",
    "from tqdm import tqdm_notebook as tqdm\n",
    "import pandas as pd\n",
    "import matplotlib.pyplot as plt\n",
    "import scipy.optimize as opt\n",
    "#plt.rc('text', usetex=True)\n",
    "#plt.rc('text.latex', preamble=r'\\usepackage{amsmath}\\usepackage{braket}')"
   ]
  },
  {
   "cell_type": "code",
   "execution_count": 3,
   "id": "24b194c1",
   "metadata": {},
   "outputs": [
    {
     "name": "stdout",
     "output_type": "stream",
     "text": [
      "[[0.00000000e+00 1.11111111e-03 2.22222222e-03 3.33333333e-03\n",
      "  4.44444444e-03 5.55555556e-03 6.66666667e-03 7.77777778e-03\n",
      "  8.88888889e-03 1.00000000e-02]\n",
      " [0.00000000e+00 8.80000000e-03 1.72000000e-02 2.96000000e-02\n",
      "  3.66000000e-02 5.03000000e-02 5.18000000e-02 6.71000000e-02\n",
      "  7.17000000e-02 8.10000000e-02]\n",
      " [0.00000000e+00 1.81800000e-01 3.25100000e-01 4.28600000e-01\n",
      "  5.01900000e-01 5.65600000e-01 6.16200000e-01 6.52600000e-01\n",
      "  6.75400000e-01 6.99800000e-01]\n",
      " [9.98300000e-01 7.67200000e-01 5.91600000e-01 4.62400000e-01\n",
      "  3.67800000e-01 2.95800000e-01 2.43200000e-01 1.96200000e-01\n",
      "  1.72300000e-01 1.38500000e-01]\n",
      " [1.70000000e-03 4.22000000e-02 6.61000000e-02 7.94000000e-02\n",
      "  9.37000000e-02 8.83000000e-02 8.88000000e-02 8.41000000e-02\n",
      "  8.06000000e-02 8.07000000e-02]\n",
      " [0.00000000e+00 8.60000000e-03 1.86000000e-02 2.82000000e-02\n",
      "  3.58000000e-02 4.77000000e-02 5.13000000e-02 6.13000000e-02\n",
      "  6.83000000e-02 8.01000000e-02]\n",
      " [0.00000000e+00 4.48000000e-02 8.22000000e-02 1.20800000e-01\n",
      "  1.52900000e-01 1.84300000e-01 2.25700000e-01 2.50200000e-01\n",
      "  2.66400000e-01 2.96700000e-01]\n",
      " [9.99100000e-01 9.16700000e-01 8.43500000e-01 7.75300000e-01\n",
      "  7.12700000e-01 6.52000000e-01 5.97200000e-01 5.50000000e-01\n",
      "  5.11900000e-01 4.64700000e-01]\n",
      " [9.00000000e-04 2.99000000e-02 5.57000000e-02 7.57000000e-02\n",
      "  9.86000000e-02 1.16000000e-01 1.25800000e-01 1.38500000e-01\n",
      "  1.53400000e-01 1.58500000e-01]]\n"
     ]
    }
   ],
   "source": [
    "N = 100\n",
    "total=np.zeros((1,10))\n",
    "for i in range(N):\n",
    "    test=np.loadtxt('Steane_3rd_ideal/Steane_3rd_ideal{}.txt'.format(i),delimiter=',')\n",
    "    total=total+test\n",
    "total = total/N\n",
    "print(total)"
   ]
  },
  {
   "cell_type": "code",
   "execution_count": 5,
   "id": "c610024d",
   "metadata": {},
   "outputs": [],
   "source": [
    "np.savetxt('text/Steane_3rd_Pauli_10k.txt', total, delimiter=\",\")"
   ]
  }
 ],
 "metadata": {
  "kernelspec": {
   "display_name": "Python 3",
   "language": "python",
   "name": "python3"
  },
  "language_info": {
   "codemirror_mode": {
    "name": "ipython",
    "version": 3
   },
   "file_extension": ".py",
   "mimetype": "text/x-python",
   "name": "python",
   "nbconvert_exporter": "python",
   "pygments_lexer": "ipython3",
   "version": "3.10.12"
  }
 },
 "nbformat": 4,
 "nbformat_minor": 5
}
