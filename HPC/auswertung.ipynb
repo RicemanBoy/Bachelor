{
 "cells": [
  {
   "cell_type": "code",
   "execution_count": 1,
   "id": "346562a3-a823-4e77-82d5-e8c225216c07",
   "metadata": {},
   "outputs": [],
   "source": [
    "import numpy as np\n",
    "from tqdm import tqdm_notebook as tqdm\n",
    "import pandas as pd\n",
    "import matplotlib.pyplot as plt\n",
    "import scipy.optimize as opt"
   ]
  },
  {
   "cell_type": "code",
   "execution_count": 2,
   "id": "24b194c1",
   "metadata": {},
   "outputs": [
    {
     "name": "stdout",
     "output_type": "stream",
     "text": [
      "Dead files:  []\n",
      "[[0.000e+00 2.500e-04 5.000e-04 7.500e-04 1.000e-03]\n",
      " [0.000e+00 5.000e-03 5.000e-03 1.000e-02 8.000e-03]\n",
      " [0.000e+00 5.150e-01 7.630e-01 8.720e-01 9.370e-01]\n",
      " [9.985e-01 4.145e-01 1.780e-01 8.400e-02 3.550e-02]\n",
      " [1.500e-03 6.550e-02 5.400e-02 3.400e-02 1.950e-02]\n",
      " [0.000e+00 2.000e-03 4.500e-03 1.200e-02 1.100e-02]\n",
      " [0.000e+00 3.220e-01 5.375e-01 6.755e-01 7.595e-01]\n",
      " [1.000e+00 5.545e-01 3.015e-01 1.885e-01 1.285e-01]\n",
      " [0.000e+00 1.215e-01 1.565e-01 1.240e-01 1.010e-01]]\n"
     ]
    }
   ],
   "source": [
    "N = 100\n",
    "total=np.zeros((1,5))\n",
    "faulty = []\n",
    "for i in range(N):\n",
    "    try:\n",
    "        test=np.loadtxt('FTSteane_3rd_b/FTSteane_3rd_b{}.txt'.format(i),delimiter=',')\n",
    "    except FileNotFoundError:\n",
    "        faulty.append('{}'.format(i))\n",
    "        continue\n",
    "    total=total+test\n",
    "total = total/N\n",
    "print(\"Dead files: \", faulty)\n",
    "N = print(total)"
   ]
  },
  {
   "cell_type": "code",
   "execution_count": 3,
   "id": "c610024d",
   "metadata": {},
   "outputs": [],
   "source": [
    "#np.savetxt('text/Carbon_3rd_4.txt', total, delimiter=\",\")\n",
    "#np.savetxt('text/RotSurf_3rd_f.txt', total, delimiter=\",\")\n",
    "np.savetxt('text/FTSteane_3rd_b.txt', total, delimiter=\",\")"
   ]
  }
 ],
 "metadata": {
  "kernelspec": {
   "display_name": "Python 3",
   "language": "python",
   "name": "python3"
  },
  "language_info": {
   "codemirror_mode": {
    "name": "ipython",
    "version": 3
   },
   "file_extension": ".py",
   "mimetype": "text/x-python",
   "name": "python",
   "nbconvert_exporter": "python",
   "pygments_lexer": "ipython3",
   "version": "3.10.12"
  }
 },
 "nbformat": 4,
 "nbformat_minor": 5
}
