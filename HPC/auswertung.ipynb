{
 "cells": [
  {
   "cell_type": "code",
   "execution_count": 14,
   "id": "346562a3-a823-4e77-82d5-e8c225216c07",
   "metadata": {},
   "outputs": [],
   "source": [
    "import numpy as np\n",
    "from tqdm import tqdm_notebook as tqdm\n",
    "import pandas as pd\n",
    "import matplotlib.pyplot as plt\n",
    "import scipy.optimize as opt"
   ]
  },
  {
   "cell_type": "code",
   "execution_count": 15,
   "id": "24b194c1",
   "metadata": {},
   "outputs": [
    {
     "name": "stdout",
     "output_type": "stream",
     "text": [
      "Dead files:  []\n",
      "[[0.000e+00 5.000e-03 1.000e-02 1.500e-02 2.000e-02]\n",
      " [0.000e+00 5.500e-02 9.950e-02 1.495e-01 1.960e-01]\n",
      " [0.000e+00 9.450e-01 9.005e-01 8.505e-01 8.040e-01]\n",
      " [9.995e-01 0.000e+00 0.000e+00 0.000e+00 0.000e+00]\n",
      " [5.000e-04 0.000e+00 0.000e+00 0.000e+00 0.000e+00]\n",
      " [0.000e+00 5.050e-02 1.035e-01 1.605e-01 2.040e-01]\n",
      " [0.000e+00 9.490e-01 8.965e-01 8.395e-01 7.960e-01]\n",
      " [9.990e-01 0.000e+00 0.000e+00 0.000e+00 0.000e+00]\n",
      " [1.000e-03 5.000e-04 0.000e+00 0.000e+00 0.000e+00]]\n"
     ]
    }
   ],
   "source": [
    "N = 100\n",
    "total=np.zeros((1,5))\n",
    "faulty = []\n",
    "for i in range(N):\n",
    "    try:\n",
    "        test=np.loadtxt('FTSteane_3rd_a/FTSteane_3rd_a{}.txt'.format(i),delimiter=',')\n",
    "    except FileNotFoundError:\n",
    "        faulty.append('{}'.format(i))\n",
    "        continue\n",
    "    total=total+test\n",
    "total = total/N\n",
    "print(\"Dead files: \", faulty)\n",
    "N = print(total)"
   ]
  },
  {
   "cell_type": "code",
   "execution_count": 16,
   "id": "c610024d",
   "metadata": {},
   "outputs": [],
   "source": [
    "#np.savetxt('text/Carbon_3rd_4.txt', total, delimiter=\",\")\n",
    "#np.savetxt('text/RotSurf_3rd_f.txt', total, delimiter=\",\")\n",
    "np.savetxt('text/FTSteane_3rd_a.txt', total, delimiter=\",\")"
   ]
  }
 ],
 "metadata": {
  "kernelspec": {
   "display_name": "Python 3",
   "language": "python",
   "name": "python3"
  },
  "language_info": {
   "codemirror_mode": {
    "name": "ipython",
    "version": 3
   },
   "file_extension": ".py",
   "mimetype": "text/x-python",
   "name": "python",
   "nbconvert_exporter": "python",
   "pygments_lexer": "ipython3",
   "version": "3.10.12"
  }
 },
 "nbformat": 4,
 "nbformat_minor": 5
}
