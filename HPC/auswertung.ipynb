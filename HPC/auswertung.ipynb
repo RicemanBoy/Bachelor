{
 "cells": [
  {
   "cell_type": "code",
   "execution_count": 1,
   "id": "346562a3-a823-4e77-82d5-e8c225216c07",
   "metadata": {},
   "outputs": [],
   "source": [
    "import numpy as np\n",
    "from tqdm import tqdm_notebook as tqdm\n",
    "import pandas as pd\n",
    "import matplotlib.pyplot as plt\n",
    "import scipy.optimize as opt"
   ]
  },
  {
   "cell_type": "code",
   "execution_count": 2,
   "id": "24b194c1",
   "metadata": {},
   "outputs": [
    {
     "name": "stdout",
     "output_type": "stream",
     "text": [
      "Dead files:  []\n",
      "[[0.000e+00 6.640e-02 1.193e-01 1.727e-01 2.275e-01 2.762e-01 3.120e-01\n",
      "  3.628e-01 3.877e-01 4.371e-01]\n",
      " [0.000e+00 3.645e-01 5.488e-01 6.199e-01 6.450e-01 6.312e-01 6.217e-01\n",
      "  5.844e-01 5.658e-01 5.256e-01]\n",
      " [2.000e-04 6.520e-02 6.100e-02 4.270e-02 3.120e-02 2.300e-02 1.590e-02\n",
      "  1.290e-02 1.060e-02 8.900e-03]\n",
      " [9.986e-01 3.410e-01 1.314e-01 6.780e-02 3.460e-02 2.380e-02 1.650e-02\n",
      "  1.270e-02 1.170e-02 9.800e-03]\n",
      " [0.000e+00 5.950e-02 5.680e-02 4.460e-02 3.010e-02 2.150e-02 1.640e-02\n",
      "  1.360e-02 1.330e-02 9.200e-03]\n",
      " [1.200e-03 1.034e-01 8.270e-02 5.230e-02 3.160e-02 2.430e-02 1.750e-02\n",
      "  1.360e-02 1.090e-02 9.400e-03]\n",
      " [0.000e+00 6.390e-02 1.236e-01 1.717e-01 2.241e-01 2.751e-01 3.188e-01\n",
      "  3.577e-01 4.065e-01 4.336e-01]\n",
      " [0.000e+00 8.510e-02 1.729e-01 2.230e-01 2.568e-01 2.604e-01 2.641e-01\n",
      "  2.570e-01 2.543e-01 2.351e-01]\n",
      " [0.000e+00 3.960e-02 6.700e-02 9.540e-02 1.155e-01 1.325e-01 1.435e-01\n",
      "  1.462e-01 1.486e-01 1.557e-01]\n",
      " [1.000e-04 1.168e-01 1.362e-01 1.189e-01 1.024e-01 8.370e-02 7.070e-02\n",
      "  6.170e-02 4.770e-02 4.440e-02]\n",
      " [9.990e-01 4.760e-01 2.504e-01 1.618e-01 1.169e-01 9.300e-02 6.720e-02\n",
      "  6.130e-02 5.000e-02 4.260e-02]\n",
      " [0.000e+00 8.600e-02 1.088e-01 1.049e-01 9.200e-02 7.740e-02 6.600e-02\n",
      "  5.870e-02 4.920e-02 4.450e-02]\n",
      " [9.000e-04 1.326e-01 1.411e-01 1.243e-01 9.230e-02 7.790e-02 6.970e-02\n",
      "  5.740e-02 4.370e-02 4.410e-02]]\n"
     ]
    }
   ],
   "source": [
    "N = 100\n",
    "total=np.zeros((1,10))\n",
    "faulty = []\n",
    "for i in range(N):\n",
    "    try:\n",
    "        test=np.loadtxt('Carbon_3rd_1/Carbon_3rd_1{}.txt'.format(i),delimiter=',')\n",
    "    except FileNotFoundError:\n",
    "        faulty.append('{}'.format(i))\n",
    "        continue\n",
    "    total=total+test\n",
    "total = total/N\n",
    "print(\"Dead files: \", faulty)\n",
    "N = print(total)"
   ]
  },
  {
   "cell_type": "code",
   "execution_count": 3,
   "id": "c610024d",
   "metadata": {},
   "outputs": [],
   "source": [
    "np.savetxt('text/Carbon_3rd_1.txt', total, delimiter=\",\")"
   ]
  }
 ],
 "metadata": {
  "kernelspec": {
   "display_name": "Python 3",
   "language": "python",
   "name": "python3"
  },
  "language_info": {
   "codemirror_mode": {
    "name": "ipython",
    "version": 3
   },
   "file_extension": ".py",
   "mimetype": "text/x-python",
   "name": "python",
   "nbconvert_exporter": "python",
   "pygments_lexer": "ipython3",
   "version": "3.10.12"
  }
 },
 "nbformat": 4,
 "nbformat_minor": 5
}
