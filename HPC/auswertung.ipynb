{
 "cells": [
  {
   "cell_type": "code",
   "execution_count": 26,
   "id": "346562a3-a823-4e77-82d5-e8c225216c07",
   "metadata": {},
   "outputs": [],
   "source": [
    "import numpy as np\n",
    "#from functions import *\n",
    "from tqdm import tqdm_notebook as tqdm\n",
    "import pandas as pd\n",
    "import matplotlib.pyplot as plt\n",
    "import scipy.optimize as opt\n",
    "#plt.rc('text', usetex=True)\n",
    "#plt.rc('text.latex', preamble=r'\\usepackage{amsmath}\\usepackage{braket}')"
   ]
  },
  {
   "cell_type": "code",
   "execution_count": 27,
   "id": "24b194c1",
   "metadata": {},
   "outputs": [
    {
     "name": "stdout",
     "output_type": "stream",
     "text": [
      "[[0.         0.00526316 0.01052632 0.01578947 0.02105263 0.02631579\n",
      "  0.03157895 0.03684211 0.04210526 0.04736842 0.05263158 0.05789474\n",
      "  0.06315789 0.06842105 0.07368421 0.07894737 0.08421053 0.08947368\n",
      "  0.09473684 0.1       ]\n",
      " [1.         0.90646977 0.82961536 0.76853608 0.71890948 0.67932848\n",
      "  0.64439282 0.61361569 0.58721052 0.57661782 0.56520185 0.53973458\n",
      "  0.54522343 0.52459496 0.54658051 0.52150183 0.50716026 0.48592179\n",
      "  0.506031   0.48797877]\n",
      " [1.         0.89971057 0.81798795 0.75284573 0.70099123 0.65951316\n",
      "  0.62291623 0.59458372 0.5717968  0.56007757 0.54452248 0.52656448\n",
      "  0.52854319 0.51663381 0.5309417  0.51159714 0.49955918 0.50136408\n",
      "  0.50609092 0.50712374]]\n"
     ]
    }
   ],
   "source": [
    "N = 100\n",
    "total=np.zeros((1,20))\n",
    "for i in range(N):\n",
    "    test=np.loadtxt('Carbon3/C3_{}.txt'.format(i),delimiter=',')\n",
    "    total=total+test\n",
    "total = total/N\n",
    "N = print(total)"
   ]
  },
  {
   "cell_type": "code",
   "execution_count": 28,
   "id": "c610024d",
   "metadata": {},
   "outputs": [],
   "source": [
    "np.savetxt('text/Carbon3.txt', total, delimiter=\",\")"
   ]
  }
 ],
 "metadata": {
  "kernelspec": {
   "display_name": "Python 3",
   "language": "python",
   "name": "python3"
  },
  "language_info": {
   "codemirror_mode": {
    "name": "ipython",
    "version": 3
   },
   "file_extension": ".py",
   "mimetype": "text/x-python",
   "name": "python",
   "nbconvert_exporter": "python",
   "pygments_lexer": "ipython3",
   "version": "3.10.12"
  }
 },
 "nbformat": 4,
 "nbformat_minor": 5
}
