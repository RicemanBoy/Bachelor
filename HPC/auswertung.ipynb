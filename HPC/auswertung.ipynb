{
 "cells": [
  {
   "cell_type": "code",
   "execution_count": 23,
   "id": "346562a3-a823-4e77-82d5-e8c225216c07",
   "metadata": {},
   "outputs": [],
   "source": [
    "import numpy as np\n",
    "#from functions import *\n",
    "from tqdm import tqdm_notebook as tqdm\n",
    "import pandas as pd\n",
    "import matplotlib.pyplot as plt\n",
    "import scipy.optimize as opt\n",
    "#plt.rc('text', usetex=True)\n",
    "#plt.rc('text.latex', preamble=r'\\usepackage{amsmath}\\usepackage{braket}')"
   ]
  },
  {
   "cell_type": "code",
   "execution_count": 26,
   "id": "24b194c1",
   "metadata": {},
   "outputs": [
    {
     "name": "stdout",
     "output_type": "stream",
     "text": [
      "Dead files:  144\n",
      "[[0.00000000e+00 4.75555556e-03 9.51111111e-03 1.42666667e-02\n",
      "  1.90222222e-02 2.37777778e-02 2.85333333e-02 3.32888889e-02\n",
      "  3.80444444e-02 4.28000000e-02]\n",
      " [8.55400000e-01 3.59500000e-01 1.81200000e-01 9.91000000e-02\n",
      "  6.43000000e-02 4.86000000e-02 4.23000000e-02 3.56000000e-02\n",
      "  3.30000000e-02 3.21000000e-02]\n",
      " [6.00000000e-04 6.92000000e-02 7.18000000e-02 5.45000000e-02\n",
      "  4.56000000e-02 4.53000000e-02 3.84000000e-02 3.27000000e-02\n",
      "  3.26000000e-02 2.89000000e-02]\n",
      " [0.00000000e+00 4.27300000e-01 6.03000000e-01 7.02400000e-01\n",
      "  7.46100000e-01 7.62100000e-01 7.75300000e-01 7.87700000e-01\n",
      "  7.90400000e-01 7.95000000e-01]\n",
      " [8.54700000e-01 7.32600000e-01 6.10600000e-01 5.17800000e-01\n",
      "  4.40500000e-01 3.91900000e-01 3.54400000e-01 3.32000000e-01\n",
      "  2.97200000e-01 2.84600000e-01]\n",
      " [1.30000000e-03 8.29000000e-02 1.60300000e-01 2.20200000e-01\n",
      "  2.61300000e-01 2.78600000e-01 2.81200000e-01 2.76000000e-01\n",
      "  2.73700000e-01 2.66600000e-01]\n",
      " [0.00000000e+00 4.05000000e-02 8.51000000e-02 1.18000000e-01\n",
      "  1.54200000e-01 1.85500000e-01 2.20400000e-01 2.48000000e-01\n",
      "  2.85100000e-01 3.04800000e-01]]\n"
     ]
    }
   ],
   "source": [
    "N = 1000\n",
    "total=np.zeros((1,10))\n",
    "faulty = 0\n",
    "for i in range(N):\n",
    "    try:\n",
    "        test=np.loadtxt('RotSurf_3rd_a/RotSurf_3rd_a){}.txt'.format(i),delimiter=',')\n",
    "    except FileNotFoundError:\n",
    "        faulty += 1\n",
    "        continue\n",
    "    total=total+test\n",
    "total = total/N\n",
    "print(\"Dead files: \", faulty)\n",
    "N = print(total)"
   ]
  },
  {
   "cell_type": "code",
   "execution_count": 25,
   "id": "c610024d",
   "metadata": {},
   "outputs": [],
   "source": [
    "np.savetxt('text/RotSurf_3rd_a.txt', total, delimiter=\",\")"
   ]
  }
 ],
 "metadata": {
  "kernelspec": {
   "display_name": "Python 3",
   "language": "python",
   "name": "python3"
  },
  "language_info": {
   "codemirror_mode": {
    "name": "ipython",
    "version": 3
   },
   "file_extension": ".py",
   "mimetype": "text/x-python",
   "name": "python",
   "nbconvert_exporter": "python",
   "pygments_lexer": "ipython3",
   "version": "3.10.12"
  }
 },
 "nbformat": 4,
 "nbformat_minor": 5
}
