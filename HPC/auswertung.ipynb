{
 "cells": [
  {
   "cell_type": "code",
   "execution_count": 3,
   "id": "346562a3-a823-4e77-82d5-e8c225216c07",
   "metadata": {},
   "outputs": [],
   "source": [
    "import numpy as np\n",
    "#from functions import *\n",
    "from tqdm import tqdm_notebook as tqdm\n",
    "import pandas as pd\n",
    "import matplotlib.pyplot as plt\n",
    "import scipy.optimize as opt\n",
    "#plt.rc('text', usetex=True)\n",
    "#plt.rc('text.latex', preamble=r'\\usepackage{amsmath}\\usepackage{braket}')"
   ]
  },
  {
   "cell_type": "code",
   "execution_count": 4,
   "id": "24b194c1",
   "metadata": {},
   "outputs": [
    {
     "name": "stdout",
     "output_type": "stream",
     "text": [
      "[[0.         0.00111111 0.00222222 0.00333333 0.00444444 0.00555556\n",
      "  0.00666667 0.00777778 0.00888889 0.01      ]\n",
      " [0.         0.0098     0.0182     0.0232     0.0377     0.0479\n",
      "  0.0537     0.0684     0.0691     0.0795    ]\n",
      " [0.         0.1764     0.3102     0.429      0.5005     0.5685\n",
      "  0.6234     0.6461     0.6801     0.703     ]\n",
      " [0.9988     0.7703     0.6038     0.4684     0.3729     0.2955\n",
      "  0.2341     0.1981     0.1703     0.1417    ]\n",
      " [0.0012     0.0435     0.0678     0.0794     0.0889     0.0881\n",
      "  0.0888     0.0874     0.0805     0.0758    ]\n",
      " [0.         0.01       0.0175     0.0267     0.037      0.0441\n",
      "  0.0533     0.0644     0.0715     0.0811    ]\n",
      " [0.         0.0058     0.0138     0.0212     0.0278     0.0328\n",
      "  0.0385     0.0452     0.052      0.0637    ]\n",
      " [0.9987     0.8903     0.8131     0.7372     0.6775     0.6312\n",
      "  0.5932     0.5675     0.5318     0.4985    ]\n",
      " [0.0013     0.0939     0.1556     0.2149     0.2577     0.2919\n",
      "  0.315      0.3229     0.3447     0.3567    ]]\n"
     ]
    }
   ],
   "source": [
    "N = 100\n",
    "total=np.zeros((1,10))\n",
    "for i in range(N):\n",
    "    test=np.loadtxt('Leon/Steane_3rd_ideal_leon{}.txt'.format(i),delimiter=',')\n",
    "    total=total+test\n",
    "total = total/N\n",
    "print(total)"
   ]
  },
  {
   "cell_type": "code",
   "execution_count": 5,
   "id": "c610024d",
   "metadata": {},
   "outputs": [],
   "source": [
    "np.savetxt('text/Steane_3rd_Leon.txt', total, delimiter=\",\")"
   ]
  }
 ],
 "metadata": {
  "kernelspec": {
   "display_name": "Python 3",
   "language": "python",
   "name": "python3"
  },
  "language_info": {
   "codemirror_mode": {
    "name": "ipython",
    "version": 3
   },
   "file_extension": ".py",
   "mimetype": "text/x-python",
   "name": "python",
   "nbconvert_exporter": "python",
   "pygments_lexer": "ipython3",
   "version": "3.10.12"
  }
 },
 "nbformat": 4,
 "nbformat_minor": 5
}
