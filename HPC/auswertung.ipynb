{
 "cells": [
  {
   "cell_type": "code",
   "execution_count": 5,
   "id": "346562a3-a823-4e77-82d5-e8c225216c07",
   "metadata": {},
   "outputs": [],
   "source": [
    "import numpy as np\n",
    "from tqdm import tqdm_notebook as tqdm\n",
    "import pandas as pd\n",
    "import matplotlib.pyplot as plt\n",
    "import scipy.optimize as opt"
   ]
  },
  {
   "cell_type": "code",
   "execution_count": 6,
   "id": "24b194c1",
   "metadata": {},
   "outputs": [
    {
     "name": "stdout",
     "output_type": "stream",
     "text": [
      "Dead files:  []\n",
      "[[0.00000e+00 2.50000e-04 5.00000e-04 7.50000e-04 1.00000e-03]\n",
      " [0.00000e+00 3.12500e-03 1.87500e-03 1.00000e-02 1.00000e-02]\n",
      " [0.00000e+00 5.56250e-01 7.73750e-01 8.81875e-01 9.36875e-01]\n",
      " [9.98750e-01 3.94375e-01 1.75000e-01 7.12500e-02 3.37500e-02]\n",
      " [1.25000e-03 4.62500e-02 4.93750e-02 3.68750e-02 1.93750e-02]\n",
      " [0.00000e+00 6.25000e-04 3.12500e-03 8.75000e-03 1.56250e-02]\n",
      " [0.00000e+00 3.18750e-02 7.37500e-02 9.87500e-02 1.40000e-01]\n",
      " [9.98750e-01 7.43750e-01 5.81875e-01 5.07500e-01 4.40000e-01]\n",
      " [1.25000e-03 2.23750e-01 3.41250e-01 3.85000e-01 4.04375e-01]]\n"
     ]
    }
   ],
   "source": [
    "N = 80\n",
    "total=np.zeros((1,5))\n",
    "faulty = []\n",
    "for i in range(N):\n",
    "    try:\n",
    "        test=np.loadtxt('FTSteane_3rd_c/FTSteane_3rd_c{}.txt'.format(i),delimiter=',')\n",
    "    except FileNotFoundError:\n",
    "        faulty.append('{}'.format(i))\n",
    "        continue\n",
    "    total=total+test\n",
    "total = total/N\n",
    "print(\"Dead files: \", faulty)\n",
    "N = print(total)"
   ]
  },
  {
   "cell_type": "code",
   "execution_count": 7,
   "id": "c610024d",
   "metadata": {},
   "outputs": [],
   "source": [
    "#np.savetxt('text/Carbon_3rd_4.txt', total, delimiter=\",\")\n",
    "#np.savetxt('text/RotSurf_3rd_f.txt', total, delimiter=\",\")\n",
    "np.savetxt('text/FTSteane_3rd_c.txt', total, delimiter=\",\")"
   ]
  }
 ],
 "metadata": {
  "kernelspec": {
   "display_name": "Python 3",
   "language": "python",
   "name": "python3"
  },
  "language_info": {
   "codemirror_mode": {
    "name": "ipython",
    "version": 3
   },
   "file_extension": ".py",
   "mimetype": "text/x-python",
   "name": "python",
   "nbconvert_exporter": "python",
   "pygments_lexer": "ipython3",
   "version": "3.10.12"
  }
 },
 "nbformat": 4,
 "nbformat_minor": 5
}
