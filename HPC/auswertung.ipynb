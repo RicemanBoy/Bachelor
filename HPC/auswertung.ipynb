{
 "cells": [
  {
   "cell_type": "code",
   "execution_count": 4,
   "id": "346562a3-a823-4e77-82d5-e8c225216c07",
   "metadata": {},
   "outputs": [],
   "source": [
    "import numpy as np\n",
    "from tqdm import tqdm_notebook as tqdm\n",
    "import pandas as pd\n",
    "import matplotlib.pyplot as plt\n",
    "import scipy.optimize as opt\n",
    "from matplotlib import ticker"
   ]
  },
  {
   "cell_type": "code",
   "execution_count": 5,
   "id": "24b194c1",
   "metadata": {},
   "outputs": [
    {
     "name": "stdout",
     "output_type": "stream",
     "text": [
      "Dead files:  []\n",
      "[[0.00000000e+00 2.50000000e-04 5.00000000e-04 7.50000000e-04\n",
      "  1.00000000e-03]\n",
      " [0.00000000e+00 2.25000000e-03 5.00000000e-03 8.33333333e-03\n",
      "  1.15833333e-02]\n",
      " [0.00000000e+00 2.79833333e-01 4.68666667e-01 6.05333333e-01\n",
      "  6.82250000e-01]\n",
      " [9.98083333e-01 6.49000000e-01 4.36916667e-01 2.94000000e-01\n",
      "  2.16833333e-01]\n",
      " [1.91666667e-03 6.89166667e-02 8.94166667e-02 9.23333333e-02\n",
      "  8.93333333e-02]\n",
      " [0.00000000e+00 3.00000000e-03 4.83333333e-03 8.33333333e-03\n",
      "  1.15000000e-02]\n",
      " [0.00000000e+00 1.53666667e-01 2.81083333e-01 3.89083333e-01\n",
      "  4.85833333e-01]\n",
      " [9.99166667e-01 7.57250000e-01 5.92166667e-01 4.54250000e-01\n",
      "  3.54833333e-01]\n",
      " [8.33333333e-04 8.60833333e-02 1.21916667e-01 1.48333333e-01\n",
      "  1.47833333e-01]]\n"
     ]
    }
   ],
   "source": [
    "N = 400\n",
    "total=np.zeros((1,5))\n",
    "faulty = []\n",
    "for i in range(N):\n",
    "    try:\n",
    "        test=np.loadtxt('FTSteane_3rd_k++/FTSteane_3rd_k++{}.txt'.format(i),delimiter=',')\n",
    "    except FileNotFoundError:\n",
    "        faulty.append('{}'.format(i))\n",
    "        continue\n",
    "    total=total+test\n",
    "total = total/(N-len(faulty))\n",
    "print(\"Dead files: \", faulty)\n",
    "N = print(total)"
   ]
  },
  {
   "cell_type": "code",
   "execution_count": 6,
   "id": "c610024d",
   "metadata": {},
   "outputs": [],
   "source": [
    "#np.savetxt('text/FTRotSurf_3rd_b.txt', total, delimiter=\",\")\n",
    "#np.savetxt('text/RotSurf_3rd_f.txt', total, delimiter=\",\")\n",
    "np.savetxt('text/FTSteane_3rd_k++.txt', total, delimiter=\",\")"
   ]
  },
  {
   "cell_type": "code",
   "execution_count": null,
   "id": "a76321ee",
   "metadata": {},
   "outputs": [],
   "source": [
    "# p = 0.994\n",
    "# print(p**150)\n",
    "# print((p**149)*150*(1-p))\n",
    "\n",
    "g = [30,16*30,28*30]\n",
    "fig, ax = plt.subplots(figsize=(8,5))\n",
    "\n",
    "for j in g:\n",
    "    p = np.linspace(0.998,1,100)\n",
    "    y = [(i**(j))+(i**(j-1))*j*(1-i) for i in p]\n",
    "    p = [1-i for i in p]\n",
    "    ax.plot(p,y,label=\"{} gates\".format(j)+\" = {} QEC FT\".format(int(j/30)))\n",
    "\n",
    "#ax.hlines(0.5,0,0.01, color=\"red\", linewidth=3, linestyles=\"dotted\")\n",
    "ax.grid()\n",
    "ax.xaxis.set_major_formatter(ticker.PercentFormatter(xmax=1, decimals = 2))\n",
    "plt.legend()\n",
    "plt.title(\"At most 1 error for certain error rate and gate count\")\n",
    "plt.show()"
   ]
  }
 ],
 "metadata": {
  "kernelspec": {
   "display_name": "Python 3",
   "language": "python",
   "name": "python3"
  },
  "language_info": {
   "codemirror_mode": {
    "name": "ipython",
    "version": 3
   },
   "file_extension": ".py",
   "mimetype": "text/x-python",
   "name": "python",
   "nbconvert_exporter": "python",
   "pygments_lexer": "ipython3",
   "version": "3.10.12"
  }
 },
 "nbformat": 4,
 "nbformat_minor": 5
}
