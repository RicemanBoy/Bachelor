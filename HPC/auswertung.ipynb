{
 "cells": [
  {
   "cell_type": "code",
   "execution_count": 4,
   "id": "346562a3-a823-4e77-82d5-e8c225216c07",
   "metadata": {},
   "outputs": [],
   "source": [
    "import numpy as np\n",
    "#from functions import *\n",
    "from tqdm import tqdm_notebook as tqdm\n",
    "import pandas as pd\n",
    "import matplotlib.pyplot as plt\n",
    "import scipy.optimize as opt\n",
    "#plt.rc('text', usetex=True)\n",
    "#plt.rc('text.latex', preamble=r'\\usepackage{amsmath}\\usepackage{braket}')"
   ]
  },
  {
   "cell_type": "code",
   "execution_count": 5,
   "id": "24b194c1",
   "metadata": {},
   "outputs": [
    {
     "name": "stdout",
     "output_type": "stream",
     "text": [
      "[[0.00000000e+00 1.11111111e-03 2.22222222e-03 3.33333333e-03\n",
      "  4.44444444e-03 5.55555556e-03 6.66666667e-03 7.77777778e-03\n",
      "  8.88888889e-03 1.00000000e-02]\n",
      " [0.00000000e+00 1.05000000e-02 1.64000000e-02 2.57000000e-02\n",
      "  3.85000000e-02 4.31000000e-02 5.34000000e-02 6.07000000e-02\n",
      "  7.09000000e-02 8.13000000e-02]\n",
      " [0.00000000e+00 1.72700000e-01 3.28400000e-01 4.20300000e-01\n",
      "  5.02100000e-01 5.70600000e-01 6.11400000e-01 6.48800000e-01\n",
      "  6.79600000e-01 6.91200000e-01]\n",
      " [9.99300000e-01 7.71600000e-01 5.88100000e-01 4.70400000e-01\n",
      "  3.74300000e-01 2.96300000e-01 2.45100000e-01 2.04000000e-01\n",
      "  1.67900000e-01 1.45000000e-01]\n",
      " [7.00000000e-04 4.52000000e-02 6.71000000e-02 8.36000000e-02\n",
      "  8.51000000e-02 9.00000000e-02 9.01000000e-02 8.65000000e-02\n",
      "  8.16000000e-02 8.25000000e-02]\n",
      " [0.00000000e+00 6.77000000e-02 1.27100000e-01 1.83100000e-01\n",
      "  2.28400000e-01 2.71900000e-01 3.13700000e-01 3.56700000e-01\n",
      "  3.96800000e-01 4.19000000e-01]\n",
      " [0.00000000e+00 1.41000000e-01 2.42500000e-01 3.08600000e-01\n",
      "  3.62500000e-01 3.92500000e-01 4.15100000e-01 4.17500000e-01\n",
      "  4.16100000e-01 4.20700000e-01]\n",
      " [9.98900000e-01 7.48900000e-01 5.64100000e-01 4.32100000e-01\n",
      "  3.35400000e-01 2.58100000e-01 2.02800000e-01 1.62600000e-01\n",
      "  1.28800000e-01 1.07600000e-01]\n",
      " [1.10000000e-03 4.24000000e-02 6.63000000e-02 7.62000000e-02\n",
      "  7.37000000e-02 7.75000000e-02 6.84000000e-02 6.32000000e-02\n",
      "  5.83000000e-02 5.27000000e-02]]\n"
     ]
    }
   ],
   "source": [
    "N = 100\n",
    "total=np.zeros((1,10))\n",
    "for i in range(N):\n",
    "    test=np.loadtxt('Steane_3rd/Steane_3rd{}.txt'.format(i),delimiter=',')\n",
    "    total=total+test\n",
    "total = total/N\n",
    "print(total)"
   ]
  },
  {
   "cell_type": "code",
   "execution_count": 6,
   "id": "c610024d",
   "metadata": {},
   "outputs": [],
   "source": [
    "np.savetxt('Steane_3rd_Pauli_10k.txt', total, delimiter=\",\")"
   ]
  }
 ],
 "metadata": {
  "kernelspec": {
   "display_name": "Python 3",
   "language": "python",
   "name": "python3"
  },
  "language_info": {
   "codemirror_mode": {
    "name": "ipython",
    "version": 3
   },
   "file_extension": ".py",
   "mimetype": "text/x-python",
   "name": "python",
   "nbconvert_exporter": "python",
   "pygments_lexer": "ipython3",
   "version": "3.10.12"
  }
 },
 "nbformat": 4,
 "nbformat_minor": 5
}
