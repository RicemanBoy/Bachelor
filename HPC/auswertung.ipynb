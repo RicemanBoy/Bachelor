{
 "cells": [
  {
   "cell_type": "code",
   "execution_count": 9,
   "id": "346562a3-a823-4e77-82d5-e8c225216c07",
   "metadata": {},
   "outputs": [],
   "source": [
    "import numpy as np\n",
    "from tqdm import tqdm_notebook as tqdm\n",
    "import pandas as pd\n",
    "import matplotlib.pyplot as plt\n",
    "import scipy.optimize as opt"
   ]
  },
  {
   "cell_type": "code",
   "execution_count": 11,
   "id": "24b194c1",
   "metadata": {},
   "outputs": [
    {
     "name": "stdout",
     "output_type": "stream",
     "text": [
      "Dead files:  ['0', '1', '2', '3', '4', '5', '6', '7', '8', '9', '10', '11', '12', '13', '14', '15']\n",
      "[[0.00000000e+00 4.66666667e-03 9.33333333e-03 1.40000000e-02\n",
      "  1.86666667e-02 2.33333333e-02 2.80000000e-02 3.26666667e-02\n",
      "  3.73333333e-02 4.20000000e-02]\n",
      " [8.39400000e-01 3.53000000e-01 1.79700000e-01 1.00600000e-01\n",
      "  6.22000000e-02 4.41000000e-02 4.10000000e-02 3.78000000e-02\n",
      "  3.32000000e-02 2.83000000e-02]\n",
      " [6.00000000e-04 6.96000000e-02 6.33000000e-02 5.51000000e-02\n",
      "  4.76000000e-02 4.12000000e-02 3.62000000e-02 3.35000000e-02\n",
      "  3.18000000e-02 3.07000000e-02]\n",
      " [0.00000000e+00 4.17400000e-01 5.97000000e-01 6.84300000e-01\n",
      "  7.30200000e-01 7.54700000e-01 7.62800000e-01 7.68700000e-01\n",
      "  7.75000000e-01 7.81000000e-01]\n",
      " [8.38600000e-01 7.35100000e-01 6.35700000e-01 5.45800000e-01\n",
      "  4.83600000e-01 4.38500000e-01 3.96800000e-01 3.75800000e-01\n",
      "  3.54900000e-01 3.42200000e-01]\n",
      " [1.40000000e-03 8.69000000e-02 1.62900000e-01 2.30400000e-01\n",
      "  2.75000000e-01 2.98700000e-01 3.24000000e-01 3.26800000e-01\n",
      "  3.35000000e-01 3.25300000e-01]\n",
      " [0.00000000e+00 1.80000000e-02 4.14000000e-02 6.38000000e-02\n",
      "  8.14000000e-02 1.02800000e-01 1.19200000e-01 1.37400000e-01\n",
      "  1.50100000e-01 1.72500000e-01]]\n"
     ]
    }
   ],
   "source": [
    "N = 100\n",
    "total=np.zeros((1,10))\n",
    "faulty = []\n",
    "for i in range(N):\n",
    "    try:\n",
    "        test=np.loadtxt('RotSurf_3rd_d/RotSurf_3rd_d){}.txt'.format(i),delimiter=',')\n",
    "    except FileNotFoundError:\n",
    "        faulty.append('{}'.format(i))\n",
    "        continue\n",
    "    total=total+test\n",
    "total = total/N\n",
    "print(\"Dead files: \", faulty)\n",
    "N = print(total)"
   ]
  },
  {
   "cell_type": "code",
   "execution_count": 12,
   "id": "c610024d",
   "metadata": {},
   "outputs": [],
   "source": [
    "np.savetxt('text/RotSurf_3rd_d.txt', total, delimiter=\",\")"
   ]
  }
 ],
 "metadata": {
  "kernelspec": {
   "display_name": "Python 3",
   "language": "python",
   "name": "python3"
  },
  "language_info": {
   "codemirror_mode": {
    "name": "ipython",
    "version": 3
   },
   "file_extension": ".py",
   "mimetype": "text/x-python",
   "name": "python",
   "nbconvert_exporter": "python",
   "pygments_lexer": "ipython3",
   "version": "3.10.12"
  }
 },
 "nbformat": 4,
 "nbformat_minor": 5
}
