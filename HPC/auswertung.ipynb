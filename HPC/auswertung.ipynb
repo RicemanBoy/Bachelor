{
 "cells": [
  {
   "cell_type": "code",
   "execution_count": 23,
   "id": "346562a3-a823-4e77-82d5-e8c225216c07",
   "metadata": {},
   "outputs": [],
   "source": [
    "import numpy as np\n",
    "#from functions import *\n",
    "from tqdm import tqdm_notebook as tqdm\n",
    "import pandas as pd\n",
    "import matplotlib.pyplot as plt\n",
    "import scipy.optimize as opt\n",
    "#plt.rc('text', usetex=True)\n",
    "#plt.rc('text.latex', preamble=r'\\usepackage{amsmath}\\usepackage{braket}')"
   ]
  },
  {
   "cell_type": "code",
   "execution_count": 24,
   "id": "24b194c1",
   "metadata": {},
   "outputs": [
    {
     "name": "stdout",
     "output_type": "stream",
     "text": [
      "[[0.         0.00526316 0.01052632 0.01578947 0.02105263 0.02631579\n",
      "  0.03157895 0.03684211 0.04210526 0.04736842 0.05263158 0.05789474\n",
      "  0.06315789 0.06842105 0.07368421 0.07894737 0.08421053 0.08947368\n",
      "  0.09473684 0.1       ]\n",
      " [1.         0.90874406 0.83246395 0.77379756 0.72557603 0.66378867\n",
      "  0.65320174 0.62796271 0.59394604 0.59519536 0.56077165 0.54947619\n",
      "  0.56271429 0.52804762 0.487      0.552      0.4765     0.46166667\n",
      "  0.47833333 0.505     ]\n",
      " [1.         0.9030761  0.8202429  0.75581635 0.70295501 0.65074902\n",
      "  0.63065993 0.59641388 0.57554882 0.58476555 0.55128033 0.54261167\n",
      "  0.56661941 0.54206782 0.50953175 0.5057381  0.49421429 0.45866667\n",
      "  0.53316667 0.5045    ]]\n"
     ]
    }
   ],
   "source": [
    "N = 100\n",
    "total=np.zeros((1,20))\n",
    "for i in range(N):\n",
    "    test=np.loadtxt('Carbon2/C2_{}.txt'.format(i),delimiter=',')\n",
    "    total=total+test\n",
    "total = total/N\n",
    "N = print(total)"
   ]
  },
  {
   "cell_type": "code",
   "execution_count": 25,
   "id": "c610024d",
   "metadata": {},
   "outputs": [],
   "source": [
    "np.savetxt('text/Carbon2.txt', total, delimiter=\",\")"
   ]
  }
 ],
 "metadata": {
  "kernelspec": {
   "display_name": "Python 3",
   "language": "python",
   "name": "python3"
  },
  "language_info": {
   "codemirror_mode": {
    "name": "ipython",
    "version": 3
   },
   "file_extension": ".py",
   "mimetype": "text/x-python",
   "name": "python",
   "nbconvert_exporter": "python",
   "pygments_lexer": "ipython3",
   "version": "3.10.12"
  }
 },
 "nbformat": 4,
 "nbformat_minor": 5
}
