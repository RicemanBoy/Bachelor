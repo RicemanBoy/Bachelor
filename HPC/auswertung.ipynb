{
 "cells": [
  {
   "cell_type": "code",
   "execution_count": 6,
   "id": "346562a3-a823-4e77-82d5-e8c225216c07",
   "metadata": {},
   "outputs": [],
   "source": [
    "import numpy as np\n",
    "from tqdm import tqdm_notebook as tqdm\n",
    "import pandas as pd\n",
    "import matplotlib.pyplot as plt\n",
    "import scipy.optimize as opt"
   ]
  },
  {
   "cell_type": "code",
   "execution_count": 8,
   "id": "24b194c1",
   "metadata": {},
   "outputs": [
    {
     "name": "stdout",
     "output_type": "stream",
     "text": [
      "Dead files:  ['7', '8', '9', '10', '12', '13']\n",
      "[[0.00000000e+00 2.50000000e-04 5.00000000e-04 7.50000000e-04\n",
      "  1.00000000e-03]\n",
      " [0.00000000e+00 3.72340426e-03 6.91489362e-03 7.97872340e-03\n",
      "  1.01063830e-02]\n",
      " [0.00000000e+00 5.39361702e-01 7.64361702e-01 8.72340426e-01\n",
      "  9.33510638e-01]\n",
      " [9.99468085e-01 4.10106383e-01 1.86170213e-01 8.35106383e-02\n",
      "  3.40425532e-02]\n",
      " [5.31914894e-04 4.68085106e-02 4.25531915e-02 3.61702128e-02\n",
      "  2.23404255e-02]\n",
      " [0.00000000e+00 3.72340426e-03 5.31914894e-03 8.51063830e-03\n",
      "  1.38297872e-02]\n",
      " [0.00000000e+00 1.36702128e-01 2.92021277e-01 3.70744681e-01\n",
      "  4.79787234e-01]\n",
      " [9.98936170e-01 6.32446809e-01 4.29787234e-01 3.53723404e-01\n",
      "  2.63829787e-01]\n",
      " [1.06382979e-03 2.27127660e-01 2.72872340e-01 2.67021277e-01\n",
      "  2.42553191e-01]]\n"
     ]
    }
   ],
   "source": [
    "N = 100\n",
    "total=np.zeros((1,5))\n",
    "faulty = []\n",
    "for i in range(N):\n",
    "    try:\n",
    "        test=np.loadtxt('FTSteane_3rd_d/FTSteane_3rd_d{}.txt'.format(i),delimiter=',')\n",
    "    except FileNotFoundError:\n",
    "        faulty.append('{}'.format(i))\n",
    "        continue\n",
    "    total=total+test\n",
    "total = total/(N-len(faulty))\n",
    "print(\"Dead files: \", faulty)\n",
    "N = print(total)"
   ]
  },
  {
   "cell_type": "code",
   "execution_count": 9,
   "id": "c610024d",
   "metadata": {},
   "outputs": [],
   "source": [
    "#np.savetxt('text/Carbon_3rd_4.txt', total, delimiter=\",\")\n",
    "#np.savetxt('text/RotSurf_3rd_f.txt', total, delimiter=\",\")\n",
    "np.savetxt('text/FTSteane_3rd_d.txt', total, delimiter=\",\")"
   ]
  }
 ],
 "metadata": {
  "kernelspec": {
   "display_name": "Python 3",
   "language": "python",
   "name": "python3"
  },
  "language_info": {
   "codemirror_mode": {
    "name": "ipython",
    "version": 3
   },
   "file_extension": ".py",
   "mimetype": "text/x-python",
   "name": "python",
   "nbconvert_exporter": "python",
   "pygments_lexer": "ipython3",
   "version": "3.10.12"
  }
 },
 "nbformat": 4,
 "nbformat_minor": 5
}
