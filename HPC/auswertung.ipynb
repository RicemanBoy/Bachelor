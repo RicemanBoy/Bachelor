{
 "cells": [
  {
   "cell_type": "code",
   "execution_count": 33,
   "id": "346562a3-a823-4e77-82d5-e8c225216c07",
   "metadata": {},
   "outputs": [],
   "source": [
    "import numpy as np\n",
    "from tqdm import tqdm_notebook as tqdm\n",
    "import pandas as pd\n",
    "import matplotlib.pyplot as plt\n",
    "import scipy.optimize as opt"
   ]
  },
  {
   "cell_type": "code",
   "execution_count": 37,
   "id": "24b194c1",
   "metadata": {},
   "outputs": [
    {
     "name": "stdout",
     "output_type": "stream",
     "text": [
      "Dead files:  ['20']\n",
      "[[0.000e+00 5.500e-03 1.100e-02 1.650e-02 2.200e-02 2.750e-02 3.300e-02\n",
      "  3.850e-02 4.400e-02 4.950e-02]\n",
      " [9.889e-01 4.267e-01 2.084e-01 1.196e-01 7.410e-02 5.980e-02 4.600e-02\n",
      "  4.460e-02 3.750e-02 3.620e-02]\n",
      " [1.100e-03 7.670e-02 7.860e-02 6.440e-02 5.600e-02 5.000e-02 4.070e-02\n",
      "  3.960e-02 3.970e-02 3.490e-02]\n",
      " [0.000e+00 4.866e-01 7.030e-01 8.060e-01 8.599e-01 8.802e-01 9.033e-01\n",
      "  9.058e-01 9.128e-01 9.189e-01]\n",
      " [9.891e-01 8.444e-01 6.964e-01 5.991e-01 5.165e-01 4.522e-01 4.123e-01\n",
      "  3.782e-01 3.552e-01 3.187e-01]\n",
      " [9.000e-04 9.630e-02 1.985e-01 2.525e-01 2.920e-01 3.192e-01 3.296e-01\n",
      "  3.285e-01 3.191e-01 3.099e-01]\n",
      " [0.000e+00 4.930e-02 9.510e-02 1.384e-01 1.815e-01 2.186e-01 2.481e-01\n",
      "  2.833e-01 3.157e-01 3.614e-01]]\n"
     ]
    }
   ],
   "source": [
    "N = 100\n",
    "total=np.zeros((1,10))\n",
    "faulty = []\n",
    "for i in range(N):\n",
    "    try:\n",
    "        test=np.loadtxt('RotSurf_3rd_c/RotSurf_3rd_c){}.txt'.format(i),delimiter=',')\n",
    "    except FileNotFoundError:\n",
    "        faulty.append('{}'.format(i))\n",
    "        continue\n",
    "    total=total+test\n",
    "total = total/N\n",
    "print(\"Dead files: \", faulty)\n",
    "N = print(total)"
   ]
  },
  {
   "cell_type": "code",
   "execution_count": 38,
   "id": "c610024d",
   "metadata": {},
   "outputs": [],
   "source": [
    "np.savetxt('text/RotSurf_3rd_c.txt', total, delimiter=\",\")"
   ]
  }
 ],
 "metadata": {
  "kernelspec": {
   "display_name": "Python 3",
   "language": "python",
   "name": "python3"
  },
  "language_info": {
   "codemirror_mode": {
    "name": "ipython",
    "version": 3
   },
   "file_extension": ".py",
   "mimetype": "text/x-python",
   "name": "python",
   "nbconvert_exporter": "python",
   "pygments_lexer": "ipython3",
   "version": "3.10.12"
  }
 },
 "nbformat": 4,
 "nbformat_minor": 5
}
