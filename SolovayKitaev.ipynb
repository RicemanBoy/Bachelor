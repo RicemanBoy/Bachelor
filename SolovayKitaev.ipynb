{
 "cells": [
  {
   "cell_type": "code",
   "execution_count": 1,
   "metadata": {},
   "outputs": [],
   "source": [
    "from qiskit import ClassicalRegister, QuantumCircuit, QuantumRegister\n",
    "from qiskit.visualization import plot_histogram\n",
    "import numpy as np\n",
    "import matplotlib.pyplot as plt\n",
    "import bitstring\n",
    "from qiskit_aer import AerSimulator\n",
    "from qiskit.transpiler.passes.synthesis import SolovayKitaev\n",
    "from qiskit.synthesis import generate_basic_approximations\n",
    "from qiskit.quantum_info import Operator\n",
    "\n",
    "from qiskit_aer.noise import (NoiseModel, QuantumError, ReadoutError,\n",
    "    pauli_error, depolarizing_error, thermal_relaxation_error)\n",
    "\n",
    "from qiskit.circuit.library import UnitaryGate"
   ]
  },
  {
   "cell_type": "code",
   "execution_count": 2,
   "metadata": {},
   "outputs": [],
   "source": [
    "sqrt_t = ([[1,0],[0,np.exp((np.pi/8)*1j)]])\n",
    "cool = UnitaryGate(sqrt_t)"
   ]
  },
  {
   "cell_type": "code",
   "execution_count": 3,
   "metadata": {},
   "outputs": [
    {
     "name": "stdout",
     "output_type": "stream",
     "text": [
      "{'1': 100}\n"
     ]
    },
    {
     "data": {
      "image/png": "[encoded data removed]",
      "text/plain": [
       "<Figure size 1834.55x200.667 with 1 Axes>"
      ]
     },
     "execution_count": 3,
     "metadata": {},
     "output_type": "execute_result"
    }
   ],
   "source": [
    "qc = QuantumCircuit(1)\n",
    "\n",
    "qc.h(0)\n",
    "for i in range(8):\n",
    "    qc.append(cool, [0])\n",
    "qc.h(0)\n",
    "\n",
    "qc.measure_all()\n",
    "\n",
    "sim = AerSimulator()\n",
    "    \n",
    "job = sim.run(qc, shots=100)\n",
    "\n",
    "result = job.result()\n",
    "counts = result.get_counts()\n",
    "\n",
    "print(counts)\n",
    "qc.draw(\"mpl\")"
   ]
  },
  {
   "cell_type": "code",
   "execution_count": 4,
   "metadata": {},
   "outputs": [
    {
     "name": "stdout",
     "output_type": "stream",
     "text": [
      "Original circuit:\n",
      "   ┌─────────┐\n",
      "q: ┤ Rz(π/8) ├\n",
      "   └─────────┘\n",
      "Discretized circuit:\n",
      "   ┌───┐┌───┐┌─────┐┌───┐┌─────┐┌───┐┌───┐┌───┐┌───┐┌───┐┌───┐┌───┐┌─────┐┌───┐»\n",
      "q: ┤ T ├┤ H ├┤ Tdg ├┤ H ├┤ Tdg ├┤ H ├┤ T ├┤ H ├┤ T ├┤ H ├┤ T ├┤ H ├┤ Tdg ├┤ H ├»\n",
      "   └───┘└───┘└─────┘└───┘└─────┘└───┘└───┘└───┘└───┘└───┘└───┘└───┘└─────┘└───┘»\n",
      "«   ┌─────┐┌───┐\n",
      "«q: ┤ Tdg ├┤ H ├\n",
      "«   └─────┘└───┘\n",
      "Error: 0.07944281142466891\n"
     ]
    },
    {
     "name": "stderr",
     "output_type": "stream",
     "text": [
      "/home/dustinseboldt/.local/lib/python3.10/site-packages/qiskit/synthesis/discrete_basis/generate_basis_approximations.py:61: RuntimeWarning: The SolovayKitaev algorithm relies on scikit-learn's KDTree for a fast search over the basis approximations. Without this, we fallback onto a greedy search with is significantly slower. We highly suggest to install scikit-learn to use this feature.\n",
      "  warnings.warn(\n"
     ]
    }
   ],
   "source": [
    "qc = QuantumCircuit(1)\n",
    "\n",
    "qc.rz(np.pi/8, 0)\n",
    "\n",
    "print(\"Original circuit:\")\n",
    "print(qc.draw())\n",
    " \n",
    "basis = [\"t\", \"tdg\", \"z\", \"h\"]\n",
    "approx = generate_basic_approximations(basis, depth=3)\n",
    "skd = SolovayKitaev(recursion_degree=2, basic_approximations=approx)\n",
    " \n",
    "discretized = skd(qc)\n",
    " \n",
    "print(\"Discretized circuit:\")\n",
    "print(discretized.draw())\n",
    " \n",
    "print(\"Error:\", np.linalg.norm(Operator(qc).data - Operator(discretized).data))\n",
    "\n",
    "#discretized.draw(\"mpl\")"
   ]
  },
  {
   "cell_type": "code",
   "execution_count": 10,
   "metadata": {},
   "outputs": [
    {
     "name": "stdout",
     "output_type": "stream",
     "text": [
      "t\n",
      "h\n",
      "tdg\n",
      "h\n",
      "tdg\n",
      "h\n",
      "t\n",
      "h\n",
      "t\n",
      "h\n",
      "t\n",
      "h\n",
      "tdg\n",
      "h\n",
      "tdg\n",
      "h\n"
     ]
    }
   ],
   "source": [
    "hmm = discretized.data\n",
    "for instruction in hmm:\n",
    "    print(instruction.name)"
   ]
  },
  {
   "cell_type": "code",
   "execution_count": 6,
   "metadata": {},
   "outputs": [],
   "source": [
    "unit = np.array([[1,0],[0,1]])\n",
    "\n",
    "t = np.array([[1,0],[0,np.exp((np.pi/4)*1j)]])\n",
    "\n",
    "tdg = np.array([[1,0],[0,np.exp(-(np.pi/4)*1j)]])\n",
    "\n",
    "s = np.array([[1,0],[0,np.exp((np.pi/2)*1j)]])\n",
    "\n",
    "sdg = np.array([[1,0],[0,np.exp(-(np.pi/2)*1j)]])\n",
    "\n",
    "h = np.array([[1,1],[1,-1]])\n",
    "h = (1/np.sqrt(2))*h\n",
    "\n",
    "test = np.array([[1,0],[0,np.exp((np.pi/8)*1j)]])\n",
    "\n",
    "#print(test)\n",
    "\n",
    "ok = np.matmul(unit,unit)\n",
    "\n",
    "for instruction in hmm:\n",
    "    if instruction.name == \"t\":\n",
    "        ok = np.matmul(ok, t)\n",
    "    if instruction.name == \"tdg\":\n",
    "        ok = np.matmul(ok, tdg)\n",
    "    if instruction.name == \"h\":\n",
    "        ok = np.matmul(ok, h)"
   ]
  },
  {
   "cell_type": "code",
   "execution_count": 7,
   "metadata": {},
   "outputs": [],
   "source": [
    "def dist(U,approx):\n",
    "    ehm = np.conjugate(U.T)\n",
    "    next = np.matmul(ehm, approx)\n",
    "    hmm = np.abs(np.trace(next))\n",
    "    return np.sqrt((2-hmm)/2)\n",
    "\n",
    "def T(a,b):\n",
    "    b = b*np.exp(1j*(np.pi/4))\n",
    "    return a,b\n",
    "\n",
    "def A(a,b):                             # = T adjoint\n",
    "    b = b*np.exp(-1j*(np.pi/4))\n",
    "    return a,b\n",
    "\n",
    "def S(a,b):                             \n",
    "    b = b*np.exp(1j*(np.pi/2))\n",
    "    return a,b\n",
    "\n",
    "def B(a,b):                             # = S adjoint\n",
    "    b = b*np.exp(-1j*(np.pi/2))\n",
    "    return a,b\n",
    "\n",
    "def H(a,b):\n",
    "    a = (1/(2**0.5))*(a+b)\n",
    "    b = (1/(2**0.5))*(a-b)\n",
    "    return a,b\n",
    "\n",
    "def dustin(k: int, tgates: int):\n",
    "    combs = [\"A\",\"T\", \"S\", \"B\"]\n",
    "    val_a , val_b = [],[]\n",
    "    for i in range(tgates-1):\n",
    "        all1 = [i+\"A\" for i in combs]\n",
    "        all2 = [i+\"T\" for i in combs]\n",
    "        all3 = [i+\"S\" for i in combs]\n",
    "        all4 = [i+\"B\" for i in combs]\n",
    "        combs = all1 + all2 + all3 + all4\n",
    "    for i in range(len(combs)):\n",
    "        seq = combs[i]\n",
    "        a = 0\n",
    "        b = 1\n",
    "        for i in seq:\n",
    "            if i == \"A\":\n",
    "                a,b = H(a,b)\n",
    "                a,b = A(a,b)\n",
    "            if i == \"T\":\n",
    "                a,b = H(a,b)\n",
    "                a,b = T(a,b)\n",
    "            if i == \"S\":\n",
    "                a,b = H(a,b)\n",
    "                a,b = S(a,b)\n",
    "            if i == \"B\":\n",
    "                a,b = H(a,b)\n",
    "                a,b = B(a,b)\n",
    "        val_a.append(a)\n",
    "        val_b.append(b)\n",
    "    angle = np.exp((1j*2*np.pi)/(2**(k+3)))\n",
    "    winner = 0\n",
    "    old = 3\n",
    "    for i in range(len(val_a)):\n",
    "        mine = mymatrix(combs[i])\n",
    "        test = np.array([[1,0],[0,angle]])\n",
    "        distance = dist(test, mine)\n",
    "        if distance < old:\n",
    "            winner = i\n",
    "            old = distance\n",
    "    return combs[winner]\n",
    "\n",
    "def dustin_ez(k: int, tgates: int):\n",
    "    combs = [\"A\",\"T\"]\n",
    "    val_a , val_b = [],[]\n",
    "    for i in range(tgates-1):\n",
    "        all1 = [i+\"A\" for i in combs]\n",
    "        all2 = [i+\"T\" for i in combs]\n",
    "        combs = all1 + all2\n",
    "    for i in range(len(combs)):\n",
    "        seq = combs[i]\n",
    "        a = 0\n",
    "        b = 1\n",
    "        for i in seq:\n",
    "            if i == \"A\":\n",
    "                a,b = H(a,b)\n",
    "                a,b = A(a,b)\n",
    "            if i == \"T\":\n",
    "                a,b = H(a,b)\n",
    "                a,b = T(a,b)\n",
    "        val_a.append(a)\n",
    "        val_b.append(b)\n",
    "    angle = np.exp((1j*2*np.pi)/(2**(k+3)))\n",
    "    winner = 0\n",
    "    old = 3\n",
    "    for i in range(len(val_a)):\n",
    "        mine = mymatrix(combs[i])\n",
    "        test = np.array([[1,0],[0,angle]])\n",
    "        distance = dist(test, mine)\n",
    "        if distance < old:\n",
    "            winner = i\n",
    "            old = distance\n",
    "    return combs[winner]\n",
    "\n",
    "def mymatrix(seq):\n",
    "    ok1 = np.matmul(unit,unit)\n",
    "    for i in range(len(seq)):\n",
    "        if seq[i] == \"A\":\n",
    "            ok1 = np.matmul(ok1,h)\n",
    "            ok1 = np.matmul(ok1,tdg)\n",
    "        if seq[i] == \"T\":\n",
    "            ok1 = np.matmul(ok1,h)\n",
    "            ok1 = np.matmul(ok1,t)\n",
    "        if seq[i] == \"S\":\n",
    "            ok1 = np.matmul(ok1,h)\n",
    "            ok1 = np.matmul(ok1,s)\n",
    "        if seq[i] == \"B\":\n",
    "            ok1 = np.matmul(ok1,h)\n",
    "            ok1 = np.matmul(ok1,sdg)\n",
    "    return ok1\n"
   ]
  },
  {
   "cell_type": "code",
   "execution_count": 8,
   "metadata": {},
   "outputs": [
    {
     "name": "stdout",
     "output_type": "stream",
     "text": [
      "AAATATAATATAAAA\n"
     ]
    },
    {
     "data": {
      "image/png": "[encoded data removed]",
      "text/plain": [
       "<Figure size 640x480 with 1 Axes>"
      ]
     },
     "metadata": {},
     "output_type": "display_data"
    }
   ],
   "source": [
    "skibidi = dustin_ez(1,15)\n",
    "print(skibidi)\n",
    "ok1 = mymatrix(skibidi)\n",
    "\n",
    "x = [i+1 for i in range(15)]\n",
    "\n",
    "y = []\n",
    "for i in x:\n",
    "    skibidi = dustin_ez(1,i)\n",
    "    ok = mymatrix(skibidi)\n",
    "    bro = dist(test, ok)\n",
    "    y.append(bro)\n",
    "\n",
    "plt.plot(x,y)\n",
    "plt.yscale(\"log\")"
   ]
  },
  {
   "cell_type": "code",
   "execution_count": 9,
   "metadata": {},
   "outputs": [
    {
     "name": "stdout",
     "output_type": "stream",
     "text": [
      "Abstand zu Einheitsmatrix lol:  0.13861716919909153\n",
      "Abstand zu Solovay Kitaev Decomp:  0.032968689845652946\n",
      "Abstand zu meins:  0.032968689845652946\n"
     ]
    }
   ],
   "source": [
    "print(\"Abstand zu Einheitsmatrix lol: \", dist(test, unit))\n",
    "print(\"Abstand zu Solovay Kitaev Decomp: \", dist(test, ok))\n",
    "print(\"Abstand zu meins: \", dist(test, ok1))"
   ]
  }
 ],
 "metadata": {
  "kernelspec": {
   "display_name": "Python 3",
   "language": "python",
   "name": "python3"
  },
  "language_info": {
   "codemirror_mode": {
    "name": "ipython",
    "version": 3
   },
   "file_extension": ".py",
   "mimetype": "text/x-python",
   "name": "python",
   "nbconvert_exporter": "python",
   "pygments_lexer": "ipython3",
   "version": "3.10.12"
  }
 },
 "nbformat": 4,
 "nbformat_minor": 2
}
