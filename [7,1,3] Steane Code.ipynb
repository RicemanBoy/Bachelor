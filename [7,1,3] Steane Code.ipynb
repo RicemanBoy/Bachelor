{
 "cells": [
  {
   "cell_type": "code",
   "execution_count": 1,
   "metadata": {},
   "outputs": [],
   "source": [
    "from qiskit import ClassicalRegister, QuantumCircuit, QuantumRegister\n",
    "from qiskit.visualization import plot_histogram\n",
    "import numpy as np\n",
    "import matplotlib.pyplot as plt\n",
    "from matplotlib import ticker\n",
    "import bitstring\n",
    "from qiskit_aer import AerSimulator\n",
    "\n",
    "from qiskit_aer.noise import (NoiseModel, QuantumError, ReadoutError,\n",
    "    pauli_error, depolarizing_error, thermal_relaxation_error)\n",
    "\n",
    "from qiskit.circuit.library import UnitaryGate"
   ]
  },
  {
   "cell_type": "code",
   "execution_count": null,
   "metadata": {},
   "outputs": [],
   "source": [
    "#https://link.springer.com/article/10.1007/s11128-020-02735-0 , https://www.researchgate.net/figure/The-encoding-and-correction-circuits-of-the-7-1-3-code-29-a-An-unknown-logical_fig7_342818848\n",
    "def code(n: int):         #encodes |00>_L\n",
    "    qr = QuantumRegister(7*n+2,\"q\")\n",
    "    cbits = ClassicalRegister(10,\"c\")\n",
    "    qc = QuantumCircuit(qr, cbits)\n",
    "\n",
    "    for i in range(n):\n",
    "        qc.h(0+7*i)\n",
    "        qc.h(1+7*i)\n",
    "        qc.h(2+7*i)\n",
    "\n",
    "        qc.cx(0+7*i,3+7*i)\n",
    "        qc.cx(0+7*i,5+7*i)\n",
    "        qc.cx(0+7*i,6+7*i)\n",
    "\n",
    "        qc.cx(1+7*i,3+7*i)\n",
    "        qc.cx(1+7*i,4+7*i)\n",
    "        qc.cx(1+7*i,6+7*i)\n",
    "\n",
    "        qc.cx(2+7*i,4+7*i)\n",
    "        qc.cx(2+7*i,5+7*i)\n",
    "        qc.cx(2+7*i,6+7*i)\n",
    "\n",
    "    return qc\n",
    "\n",
    "def X_L(qc: QuantumCircuit, pos: int):\n",
    "    for i in range(7):\n",
    "        qc.x(i+7*pos)\n",
    "\n",
    "def Z_L(qc: QuantumCircuit, pos: int):\n",
    "    for i in range(7):\n",
    "        qc.z(i+7*pos)\n",
    "    \n",
    "def H_L(qc: QuantumCircuit, pos: int):\n",
    "    for i in range(7):\n",
    "        qc.h(i+7*pos)\n",
    "\n",
    "def S_L(qc: QuantumCircuit, pos: int):\n",
    "    for i in range(7):\n",
    "        qc.s(i+7*pos)\n",
    "\n",
    "def CNOT_L(qc: QuantumCircuit, control: int):\n",
    "    if control == 0:\n",
    "        for i in range(7):\n",
    "            qc.cx(i, i+7)\n",
    "    else:\n",
    "        for i in range(7):\n",
    "            qc.cx(i+7,i)"
   ]
  }
 ],
 "metadata": {
  "kernelspec": {
   "display_name": "Python 3",
   "language": "python",
   "name": "python3"
  },
  "language_info": {
   "codemirror_mode": {
    "name": "ipython",
    "version": 3
   },
   "file_extension": ".py",
   "mimetype": "text/x-python",
   "name": "python",
   "nbconvert_exporter": "python",
   "pygments_lexer": "ipython3",
   "version": "3.11.2"
  }
 },
 "nbformat": 4,
 "nbformat_minor": 2
}
