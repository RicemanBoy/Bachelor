{
 "cells": [
  {
   "cell_type": "code",
   "execution_count": 1,
   "metadata": {},
   "outputs": [],
   "source": [
    "from qiskit import ClassicalRegister, QuantumCircuit, QuantumRegister\n",
    "from qiskit.visualization import plot_histogram\n",
    "import numpy as np\n",
    "import matplotlib.pyplot as plt\n",
    "from matplotlib import ticker\n",
    "import bitstring\n",
    "from qiskit_aer import AerSimulator\n",
    "\n",
    "from qiskit_aer.noise import (NoiseModel, QuantumError, ReadoutError,\n",
    "    pauli_error, depolarizing_error, thermal_relaxation_error)\n",
    "\n",
    "from qiskit.circuit.library import UnitaryGate"
   ]
  },
  {
   "cell_type": "code",
   "execution_count": 13,
   "metadata": {},
   "outputs": [],
   "source": [
    "#https://link.springer.com/article/10.1007/s11128-020-02735-0 , https://www.researchgate.net/figure/The-encoding-and-correction-circuits-of-the-7-1-3-code-29-a-An-unknown-logical_fig7_342818848\n",
    "def code(n: int):         #encodes |00>_L\n",
    "    qr = QuantumRegister(7*n+2,\"q\")\n",
    "    cbits = ClassicalRegister(14,\"c\")\n",
    "    qc = QuantumCircuit(qr, cbits)\n",
    "\n",
    "    for i in range(n):\n",
    "        qc.h(0+7*i)\n",
    "        qc.h(1+7*i)\n",
    "        qc.h(2+7*i)\n",
    "\n",
    "        qc.cx(0+7*i,3+7*i)\n",
    "        qc.cx(0+7*i,5+7*i)\n",
    "        qc.cx(0+7*i,6+7*i)\n",
    "\n",
    "        qc.cx(1+7*i,3+7*i)\n",
    "        qc.cx(1+7*i,4+7*i)\n",
    "        qc.cx(1+7*i,6+7*i)\n",
    "\n",
    "        qc.cx(2+7*i,4+7*i)\n",
    "        qc.cx(2+7*i,5+7*i)\n",
    "        qc.cx(2+7*i,6+7*i)\n",
    "\n",
    "    return qc\n",
    "\n",
    "def X_L(qc: QuantumCircuit, pos: int):\n",
    "    for i in range(7):\n",
    "        qc.x(i+7*pos)\n",
    "\n",
    "def Z_L(qc: QuantumCircuit, pos: int):\n",
    "    for i in range(7):\n",
    "        qc.z(i+7*pos)\n",
    "    \n",
    "def H_L(qc: QuantumCircuit, pos: int):\n",
    "    for i in range(7):\n",
    "        qc.h(i+7*pos)\n",
    "\n",
    "def S_L(qc: QuantumCircuit, pos: int):\n",
    "    for i in range(7):\n",
    "        qc.s(i+7*pos)\n",
    "\n",
    "def adj_S_L(qc: QuantumCircuit, pos: int):\n",
    "    for i in range(7):\n",
    "        qc.sdg(i+7*pos)\n",
    "\n",
    "def CNOT_L(qc: QuantumCircuit, control: int):\n",
    "    if control == 0:\n",
    "        for i in range(7):\n",
    "            qc.cx(i, i+7)\n",
    "    else:\n",
    "        for i in range(7):\n",
    "            qc.cx(i+7,i)\n",
    "\n",
    "def T_L(qc: QuantumCircuit, pos: int):\n",
    "    magic = qc.num_qubits - 1\n",
    "    anc = magic - 1\n",
    "\n",
    "    qc.h(magic)\n",
    "    qc.t(magic)\n",
    "\n",
    "    for i in range(7):\n",
    "        qc.cx(i+7*pos,magic)\n",
    "\n",
    "    qc.measure(magic,0)\n",
    "\n",
    "    for i in range(7):\n",
    "        with qc.if_test((0,0)):\n",
    "            qc.s(i+7*pos)\n",
    "\n",
    "    qc.reset(magic)\n",
    "\n",
    "def adj_T_L(qc: QuantumCircuit, pos: int):\n",
    "    magic = qc.num_qubits - 1\n",
    "    anc = magic - 1\n",
    "\n",
    "    qc.h(magic)\n",
    "    qc.tdg(magic)\n",
    "\n",
    "    for i in range(7):\n",
    "        qc.cx(i+7*pos,magic)\n",
    "\n",
    "    qc.measure(magic,0)\n",
    "\n",
    "    for i in range(7):\n",
    "        with qc.if_test((0,0)):\n",
    "            qc.sdg(i+7*pos)\n",
    "\n",
    "    qc.reset(magic)\n",
    "\n",
    "def readout(qc: QuantumCircuit, shots: int):\n",
    "    for i in range(qc.num_qubits-2):\n",
    "        qc.measure(i,i)\n",
    "    sim = AerSimulator()\n",
    "    job = sim.run(qc, shots=shots)\n",
    "    result = job.result()\n",
    "    counts = result.get_counts()\n",
    "\n",
    "    ehm = list(counts.keys())\n",
    "    hmm = list(counts.values())\n",
    "    \n",
    "    if qc.num_qubits == 16:\n",
    "        ehm_0 , ehm_1 , hmm_0 , hmm_1 = [],[],[],[]\n",
    "        for s in ehm:\n",
    "            ehm_0.append(s[:len(s)//2])\n",
    "            ehm_1.append(s[len(s)//2:])\n",
    "        for i in range(len(ehm_0)):\n",
    "            if ehm_0[i] == hmm[i][:len(hmm[i])//2]:\n",
    "                hmm_0.append(hmm[i])\n",
    "\n",
    "\n",
    "    ones = 0\n",
    "\n",
    "    for i in ehm:\n",
    "        ones = i.count(\"1\")\n",
    "    \n",
    "    ones = ones%2\n",
    "\n",
    "    if ones == 0:\n",
    "\n",
    "\n",
    "\n",
    "    return counts\n"
   ]
  },
  {
   "cell_type": "code",
   "execution_count": 14,
   "metadata": {},
   "outputs": [
    {
     "name": "stdout",
     "output_type": "stream",
     "text": [
      "['00000001111111', '00000000010110', '00000001001100', '00000000100101', '00000001100010', '00000001010001', '00000000001011', '00000000111000']\n",
      "[17, 9, 18, 9, 10, 17, 7, 13]\n"
     ]
    },
    {
     "data": {
      "text/plain": [
       "{'00000001111111': 17,\n",
       " '00000000010110': 9,\n",
       " '00000001001100': 18,\n",
       " '00000000100101': 9,\n",
       " '00000001100010': 10,\n",
       " '00000001010001': 17,\n",
       " '00000000001011': 7,\n",
       " '00000000111000': 13}"
      ]
     },
     "execution_count": 14,
     "metadata": {},
     "output_type": "execute_result"
    }
   ],
   "source": [
    "qc = code(1)\n",
    "\n",
    "X_L(qc,0)\n",
    "\n",
    "readout(qc, 100)"
   ]
  },
  {
   "cell_type": "code",
   "execution_count": 17,
   "metadata": {},
   "outputs": [
    {
     "name": "stdout",
     "output_type": "stream",
     "text": [
      "Te\n",
      "st\n"
     ]
    }
   ],
   "source": [
    "s = \"Test\"\n",
    "\n",
    "first_half  = s[:len(s)//2]\n",
    "second_half = s[len(s)//2:]\n",
    "\n",
    "print(first_half)\n",
    "print(second_half)"
   ]
  }
 ],
 "metadata": {
  "kernelspec": {
   "display_name": "Python 3",
   "language": "python",
   "name": "python3"
  },
  "language_info": {
   "codemirror_mode": {
    "name": "ipython",
    "version": 3
   },
   "file_extension": ".py",
   "mimetype": "text/x-python",
   "name": "python",
   "nbconvert_exporter": "python",
   "pygments_lexer": "ipython3",
   "version": "3.10.12"
  }
 },
 "nbformat": 4,
 "nbformat_minor": 2
}
